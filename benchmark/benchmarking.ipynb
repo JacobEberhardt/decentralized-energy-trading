{
 "cells": [
  {
   "cell_type": "markdown",
   "metadata": {
    "scrolled": true
   },
   "source": [
    "## Benchmarking notebook for decentralized energy trading\n",
    "\n",
    "#### To run please start the following services:\n",
    "- Parity Container: ```yarn run-benchmark-node```\n",
    "- Benchmarking Ned Server: ```yarn run-benchmark-ned```\n"
   ]
  },
  {
   "cell_type": "markdown",
   "metadata": {},
   "source": [
    "### Imports"
   ]
  },
  {
   "cell_type": "code",
   "execution_count": null,
   "metadata": {},
   "outputs": [],
   "source": [
    "%%capture\n",
    "!{sys.executable} -m pip install matplotlib\n",
    "import sys\n",
    "import json\n",
    "import csv\n",
    "import os\n",
    "from matplotlib import rc\n",
    "rc('font', **{'family': 'serif', 'serif': ['Computer Modern']})\n",
    "rc('text', usetex=True)\n",
    "import matplotlib.pyplot as plt\n",
    "import math\n",
    "import numpy as np\n",
    "\n"
   ]
  },
  {
   "cell_type": "markdown",
   "metadata": {},
   "source": [
    "### Configuration\n",
    "- n - max. number of households to be benchmarked\n",
    "- step - number of households to be skiped for each iteration\n",
    "- shareProducers - share of producing households\n"
   ]
  },
  {
   "cell_type": "code",
   "execution_count": null,
   "metadata": {},
   "outputs": [],
   "source": [
    "n = 100\n",
    "step = 20\n",
    "shareProducers = 0.1"
   ]
  },
  {
   "cell_type": "markdown",
   "metadata": {},
   "source": [
    "### Helper Functions"
   ]
  },
  {
   "cell_type": "code",
   "execution_count": null,
   "metadata": {},
   "outputs": [],
   "source": [
    "witness_time = []\n",
    "proof_time = []\n",
    "compile_time = []\n",
    "setup_time = []\n",
    "gas = []\n",
    "\n",
    "# balances producers and consumers for given num of households based on shareProducers\n",
    "def calcProducerConsumer(num):\n",
    "    if num == 0:\n",
    "        wE = 1\n",
    "        nE = 1\n",
    "    else:\n",
    "        wE = math.ceil(num * shareProducers)\n",
    "        nE = num - wE\n",
    "    return wE, nE\n",
    "\n",
    "# creates list of tupels containing prododucers and consumers numbers\n",
    "def createhhNumbers():\n",
    "    number_of_tests = int((n / step) + 1)\n",
    "    res = []\n",
    "    for i in range(number_of_tests):\n",
    "        res.append(calcProducerConsumer(i * step))\n",
    "    print(res)\n",
    "    return res\n",
    "\n",
    "# parses data csv file\n",
    "def parseData():\n",
    "    with open('../tmp/res.csv') as file:\n",
    "        data = list(csv.reader(file))\n",
    "        for entry in data:\n",
    "            witness_time.append(entry[0])\n",
    "            proof_time.append(entry[1])\n",
    "            gas.append(entry[2])\n",
    "\n",
    "# removes data from file\n",
    "def reset_files():\n",
    "    !pwd\n",
    "    if not os.path.exists('tmp'):\n",
    "        os.makedirs('tmp')\n",
    "    f = open(\"tmp/res.csv\", \"w+\")\n",
    "    f.write(\"\")\n",
    "    f.close()"
   ]
  },
  {
   "cell_type": "markdown",
   "metadata": {},
   "source": [
    "### Run Benchmark"
   ]
  },
  {
   "cell_type": "code",
   "execution_count": null,
   "metadata": {},
   "outputs": [],
   "source": [
    "%cd ..\n",
    "reset_files()\n",
    "hhNumbers = createhhNumbers()\n",
    "\n",
    "for i in hhNumbers:\n",
    "    !yarn generate-prooving-files {i[0]} {i[1]} benchmark\n",
    "    %cd zokrates-code\n",
    "    !zokrates compile -i settlement-check.zok --light\n",
    "    !zokrates setup --light\n",
    "    !zokrates export-verifier\n",
    "    !cp ./verifier.sol ../contracts/verifier.sol\n",
    "    %cd ..\n",
    "    print(\"Compiling and deploying Contracts...\")\n",
    "    # !! executes bash command and captures output. If errors appear, remove one ! to debug\n",
    "    !!truffle migrate --reset hard --network benchmark\n",
    "    !node benchmark/setup_benchmark.js {i[0]} {i[1]}\n",
    "    input(\"wait until netting has been successful..\")\n",
    "%cd benchmark"
   ]
  },
  {
   "cell_type": "markdown",
   "metadata": {},
   "source": [
    "### Cost for Netting:"
   ]
  },
  {
   "cell_type": "code",
   "execution_count": null,
   "metadata": {},
   "outputs": [],
   "source": [
    "x_label = list(map(lambda x: x[0] + x[1], hhNumbers))\n",
    "parseData()\n",
    "\n",
    "ax = plt.plot(x_label, [int(x) / 1000 for x in gas], '-rs')\n",
    "plt.xlabel('Number of Households')\n",
    "plt.ylabel('k gas')\n",
    "plt.rcParams['axes.grid'] = True\n",
    "plt.rcParams['grid.color'] = \"#cccccc\"\n",
    "plt.savefig('exports/gas.eps', format='eps')"
   ]
  },
  {
   "cell_type": "markdown",
   "metadata": {},
   "source": [
    "### Witness and Proof Time:"
   ]
  },
  {
   "cell_type": "code",
   "execution_count": null,
   "metadata": {},
   "outputs": [],
   "source": [
    "x = np.arange(len(x_label))  # the label locations\n",
    "width = 0.15  # the width of the bars\n",
    "fig, ax = plt.subplots()\n",
    "rects1 = ax.bar(x - width/2, [float(x) / 1000 for x in witness_time], width, label='Program Execution', edgecolor='#005eb8', color='#7faedb', zorder=3)\n",
    "rects2 = ax.bar(x + width/2, [float(x) / 1000 for x in proof_time], width, label='Proving', edgecolor='#ff4c4c', color='#ffa5a5', zorder=3)\n",
    "ax.set_ylabel('t in s')\n",
    "ax.set_xticks(x)\n",
    "ax.set_xlabel('Number of Households')\n",
    "ax.set_xticklabels(x_label)\n",
    "ax.legend()\n",
    "ax.grid(zorder=0)\n",
    "fig.tight_layout()\n",
    "plt.rcParams['axes.grid'] = True\n",
    "plt.rcParams['grid.color'] = \"#cccccc\"\n",
    "fig.savefig('exports/exec.eps', format='eps')\n",
    "plt.show()"
   ]
  }
 ],
 "metadata": {
  "kernelspec": {
   "display_name": "Python 3",
   "language": "python",
   "name": "python3"
  },
  "language_info": {
   "codemirror_mode": {
    "name": "ipython",
    "version": 3
   },
   "file_extension": ".py",
   "mimetype": "text/x-python",
   "name": "python",
   "nbconvert_exporter": "python",
   "pygments_lexer": "ipython3",
   "version": "3.7.3"
  }
 },
 "nbformat": 4,
 "nbformat_minor": 2
}
