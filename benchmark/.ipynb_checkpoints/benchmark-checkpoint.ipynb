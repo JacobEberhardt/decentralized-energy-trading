{
 "cells": [
  {
   "cell_type": "markdown",
   "metadata": {},
   "source": [
    "## System Benchmarking Tool for Decentralized Energy Trading\n"
   ]
  },
  {
   "cell_type": "markdown",
   "metadata": {},
   "source": [
    "### Imports"
   ]
  },
  {
   "cell_type": "code",
   "execution_count": 1,
   "metadata": {},
   "outputs": [],
   "source": [
    "%%capture\n",
    "import sys\n",
    "import os\n",
    "import math\n",
    "!{sys.executable} -m pip install web3\n",
    "!{sys.executable} -m pip install matplotlib\n",
    "\n"
   ]
  },
  {
   "cell_type": "markdown",
   "metadata": {},
   "source": [
    "### Configuration\n",
    "- n - max. number of households to be benchmarked\n",
    "- shareProducers - share of producing households\n"
   ]
  },
  {
   "cell_type": "code",
   "execution_count": 2,
   "metadata": {},
   "outputs": [],
   "source": [
    "n = 2\n",
    "shareProducers = 0.15\n"
   ]
  },
  {
   "cell_type": "markdown",
   "metadata": {},
   "source": [
    "### Generate Contracts"
   ]
  },
  {
   "cell_type": "code",
   "execution_count": 8,
   "metadata": {
    "scrolled": true
   },
   "outputs": [
    {
     "name": "stdout",
     "output_type": "stream",
     "text": [
      "Created `%benchmark` as an alias for `%timeit -n 1 -r 1 -o`.\n",
      "Created `%%benchmark` as an alias for `%%timeit -n 1 -r 1 -o`.\n",
      "/Users/paul/Documents/projects/decentralized-energy-trading\n",
      "/Users/paul/Documents/projects/decentralized-energy-trading/zokrates-code\n",
      "# of HHs with Energy:  1\n",
      "# of HHs without Energy:  1\n",
      "Generating zoKrates-Code for n = 1 HHs with Energy & m = 1 HHs without Energy and saving it to a file...\n",
      "Generating the corresponding code for the Configuration of the NED-Server...\n",
      "Saving the generated code to the ned-server-config.js File...\n",
      "Generating the corresponding Solidity Contracts...\n",
      "Saving the generated code to the corresponding Solidity-Contract Files...\n",
      "Saving the generated code to the ned-server-config.js File...\n",
      "Done!\n",
      "Compiling settlement-check.zok\n",
      "\n",
      "Compiled code written to 'out'\n",
      "Number of constraints: 118557\n",
      "Performing setup...\n",
      "WARNING: You are using the G16 scheme which is subject to malleability. See zokrates.github.io/reference/proving_schemes.html#g16-malleability for implications.\n",
      "Has generated 114349 points\n",
      "/Users/paul/Documents/projects/decentralized-energy-trading\n",
      "\n",
      "Compiling your contracts...\n",
      "===========================\n",
      "> Compiling ./contracts/BaseOwnedSet.sol\n",
      "> Compiling ./contracts/OwnedSet.sol\n",
      "> Compiling ./contracts/dUtility.sol\n",
      "> Compiling ./contracts/dUtilityBenchmark.sol\n",
      "> Compiling ./contracts/interfaces/IVerifier.sol\n",
      "> Compiling ./contracts/interfaces/IdUtility.sol\n",
      "\n",
      "    > compilation warnings encountered:\n",
      "\n",
      "/Users/paul/Documents/projects/decentralized-energy-trading/contracts/verifier.sol:449:5: Warning: Function state mutability can be restricted to view\n",
      "    function addition(G2Point memory p1, G2Point memory p2) internal returns (G2Point memory r) {\n",
      "    ^ (Relevant source part starts here and spans across multiple lines).\n",
      "\n",
      "> Artifacts written to /Users/paul/Documents/projects/decentralized-energy-trading/build/contracts\n",
      "> Compiled successfully using:\n",
      "   - solc: 0.5.2+commit.1df8f40c.Emscripten.clang\n",
      "\n",
      "adds:  [ \u001b[32m'0x5feceb66ffc86f38d952786c6d696c79c2dbc239'\u001b[39m,\n",
      "  \u001b[32m'0x6b86b273ff34fce19d6b804eff5a3f5747ada4ea'\u001b[39m ]\n",
      "MeterDeltas:  [ \u001b[32m'62640'\u001b[39m, \u001b[32m'-219240'\u001b[39m ]\n",
      "Hash:  0xbccf649ca38ca76f6358ac9c21b41d6c8d3d778c1a251382d7bbc5eddb72998f\n",
      "Hash:  0x736abbd54eb8e0dbd97b2fd69835bbde1be778e95a5a56daefc01971b554122f\n",
      "Hashed Array of meterDeltas:  [ \u001b[32m'0xbccf649ca38ca76f6358ac9c21b41d6c8d3d778c1a251382d7bbc5eddb72998f'\u001b[39m,\n",
      "  \u001b[32m'0x736abbd54eb8e0dbd97b2fd69835bbde1be778e95a5a56daefc01971b554122f'\u001b[39m ]\n",
      "Contract Deployed! Gas used: 2113012\n",
      "Sending data to the NED...\n",
      "Hash:  0xbccf649ca38ca76f6358ac9c21b41d6c8d3d778c1a251382d7bbc5eddb72998f\n",
      "Hash:  0x736abbd54eb8e0dbd97b2fd69835bbde1be778e95a5a56daefc01971b554122f\n",
      "tx done\n",
      "{ transactionHash:\n",
      "   \u001b[32m'0xea5de659d3010d806f95104b896c5abe67738d6229462488889817ee2c413218'\u001b[39m,\n",
      "  transactionIndex: \u001b[33m0\u001b[39m,\n",
      "  blockHash:\n",
      "   \u001b[32m'0x116fbef4f2d038684de8c74b37912e960af4c8ce7f6a46f8b9861f165b003e8e'\u001b[39m,\n",
      "  blockNumber: \u001b[33m9\u001b[39m,\n",
      "  from: \u001b[32m'0x6daa2e09e0caa7c6b0811995e9c39b31a2957afd'\u001b[39m,\n",
      "  to: \u001b[32m'0x7ab79c992a8374a7288f41bdcd25cb38aac4f94f'\u001b[39m,\n",
      "  gasUsed: \u001b[33m161118\u001b[39m,\n",
      "  cumulativeGasUsed: \u001b[33m161118\u001b[39m,\n",
      "  contractAddress: \u001b[1mnull\u001b[22m,\n",
      "  status: \u001b[33mtrue\u001b[39m,\n",
      "  logsBloom:\n",
      "   \u001b[32m'0x00000000040000000000000000000000000000000000000000000000040000000400000000000000000000000000200000000000000000000000000000000000000000000000000000000000000000000000000000000000000000004000000000004000000000000000000000000000000000000000000800000000000000000000000000000000000000000000000000000000000000000000000000000000000000000000004000200000000000000000000000000000000000000000000000000800000000000400000000000000000000000000000000000000000000000000000000000010008000000000000000000002000000000040000000000000'\u001b[39m,\n",
      "  v: \u001b[32m'0x1c'\u001b[39m,\n",
      "  r:\n",
      "   \u001b[32m'0xb88c077443e311e2ca1efa9cb72fc12abe5b40bdec8f1bbb65f3ca5c38d3330f'\u001b[39m,\n",
      "  s:\n",
      "   \u001b[32m'0x6bdb60fd2847a8a1409b66db6276b68fcf47f29829119984366a777043b94165'\u001b[39m,\n",
      "  events:\n",
      "   { NewHousehold: [ \u001b[36m[Object]\u001b[39m, \u001b[36m[Object]\u001b[39m ],\n",
      "     RenewableEnergyChanged: [ \u001b[36m[Object]\u001b[39m, \u001b[36m[Object]\u001b[39m ] } }\n",
      "/Users/paul/Documents/projects/decentralized-energy-trading/benchmarking\n"
     ]
    }
   ],
   "source": [
    "setup_time = []\n",
    "witness_time = []\n",
    "proof_time = []\n",
    "constraints = []\n",
    "%alias_magic benchmark timeit -p \"-n 1 -r 1 -o\"\n",
    "\n",
    "def calcProducerConsumer(num):\n",
    "    if math.ceil(num * shareProducers) > 1:\n",
    "        wE = num * shareProducers\n",
    "        nE = n - wE\n",
    "    else:\n",
    "        wE = 1\n",
    "        nE = num - wE\n",
    "    return wE, nE\n",
    "\n",
    "# counts constraints by looking into out.ztf\n",
    "def count_constraints():\n",
    "    f = open(\"./out.ztf\",'r')\n",
    "    constraints.append(len(list(filter(lambda x: \"==\" in x, f.readlines()))))\n",
    "    \n",
    "def compile_file(file):\n",
    "    value = %benchmark !zokrates compile -i settlement-check.zok --light\n",
    "    return int(value.best * 1000000)\n",
    "\n",
    "def setup():\n",
    "    value = %benchmark !zokrates setup --light\n",
    "    return int(value.best * 1000000)\n",
    "\n",
    "%cd ..\n",
    "for i in range(2, n + 1):\n",
    "    wE, nE = calcProducerConsumer(i)\n",
    "    %cd zokrates-code\n",
    "#     !node zoKratesCodeGenerator.js {wE} {nE}\n",
    "#     !zokrates compile -i settlement-check.zok --light\n",
    "#     !zokrates setup --light\n",
    "#     count_constraints()\n",
    "    %cd ..\n",
    "#     !truffle compile\n",
    "    !node benchmarking/setup_benchmark.js {wE} {nE}\n",
    "%cd benchmarking"
   ]
  },
  {
   "cell_type": "code",
   "execution_count": null,
   "metadata": {},
   "outputs": [],
   "source": []
  },
  {
   "cell_type": "code",
   "execution_count": null,
   "metadata": {},
   "outputs": [],
   "source": []
  },
  {
   "cell_type": "markdown",
   "metadata": {},
   "source": [
    "%cd zokrates-code\n",
    "!node zoKratesCodeGenerator.js {wE} {nE}"
   ]
  },
  {
   "cell_type": "code",
   "execution_count": null,
   "metadata": {},
   "outputs": [],
   "source": []
  }
 ],
 "metadata": {
  "file_extension": ".py",
  "kernelspec": {
   "display_name": "Python 3",
   "language": "python",
   "name": "python3"
  },
  "language_info": {
   "codemirror_mode": {
    "name": "ipython",
    "version": 3
   },
   "file_extension": ".py",
   "mimetype": "text/x-python",
   "name": "python",
   "nbconvert_exporter": "python",
   "pygments_lexer": "ipython3",
   "version": "3.7.3"
  },
  "mimetype": "text/x-python",
  "name": "python",
  "npconvert_exporter": "python",
  "pygments_lexer": "ipython3",
  "version": 3
 },
 "nbformat": 4,
 "nbformat_minor": 2
}
