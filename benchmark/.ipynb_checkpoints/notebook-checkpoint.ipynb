{
 "cells": [
  {
   "cell_type": "code",
   "execution_count": null,
   "metadata": {
    "scrolled": true
   },
   "outputs": [],
   "source": []
  },
  {
   "cell_type": "markdown",
   "metadata": {},
   "source": [
    "### Imports"
   ]
  },
  {
   "cell_type": "code",
   "execution_count": 1,
   "metadata": {},
   "outputs": [],
   "source": [
    "%%capture\n",
    "!{sys.executable} -m pip install matplotlib\n",
    "import sys\n",
    "import json\n",
    "import csv\n",
    "import os\n",
    "import matplotlib.pyplot as plt\n",
    "import math\n",
    "import numpy as np\n",
    "\n"
   ]
  },
  {
   "cell_type": "markdown",
   "metadata": {},
   "source": [
    "### Configuration\n",
    "- n - max. number of households to be benchmarked\n",
    "- step - number of households to be skiped for each iteration\n",
    "- shareProducers - share of producing households\n"
   ]
  },
  {
   "cell_type": "code",
   "execution_count": 2,
   "metadata": {},
   "outputs": [
    {
     "name": "stdout",
     "output_type": "stream",
     "text": [
      "Created `%benchmark` as an alias for `%timeit -n 1 -r 1 -o`.\n",
      "Created `%%benchmark` as an alias for `%%timeit -n 1 -r 1 -o`.\n"
     ]
    }
   ],
   "source": [
    "n = 100\n",
    "step = 20\n",
    "shareProducers = 0.1\n",
    "%alias_magic benchmark timeit -p \"-n 1 -r 1 -o\""
   ]
  },
  {
   "cell_type": "markdown",
   "metadata": {},
   "source": [
    "### Helper Functions"
   ]
  },
  {
   "cell_type": "code",
   "execution_count": 3,
   "metadata": {},
   "outputs": [],
   "source": [
    "witness_time = []\n",
    "proof_time = []\n",
    "compile_time = []\n",
    "setup_time = []\n",
    "gas = []\n",
    "\n",
    "# balances producers and consumers for given num of households based on shareProducers\n",
    "def calcProducerConsumer(num):\n",
    "    if num == 0:\n",
    "        wE = 1\n",
    "        nE = 1\n",
    "    else:\n",
    "        wE = math.ceil(num * shareProducers)\n",
    "        nE = num - wE\n",
    "    return wE, nE\n",
    "\n",
    "# creates list of tupels containing prododucers and consumers numbers\n",
    "def createhhNumbers():\n",
    "    number_of_tests = int((n / step) + 1)\n",
    "    res = []\n",
    "    for i in range(number_of_tests):\n",
    "        res.append(calcProducerConsumer(i * step))\n",
    "    print(res)\n",
    "    return res\n",
    "\n",
    "# parses data csv file\n",
    "def parseData():\n",
    "    with open('../tmp/res.csv') as file:\n",
    "        data = list(csv.reader(file))\n",
    "        for entry in data:\n",
    "            witness_time.append(entry[0])\n",
    "            proof_time.append(entry[1])\n",
    "            gas.append(entry[2])\n",
    "\n",
    "# removes data from file\n",
    "def reset_files():\n",
    "    !pwd\n",
    "    f = open(\"tmp/res.csv\", \"w+\")\n",
    "    f.write(\"\")\n",
    "    f.close()"
   ]
  },
  {
   "cell_type": "markdown",
   "metadata": {},
   "source": [
    "### Run Benchmark"
   ]
  },
  {
   "cell_type": "code",
   "execution_count": null,
   "metadata": {},
   "outputs": [
    {
     "name": "stdout",
     "output_type": "stream",
     "text": [
      "/Users/paul/Documents/projects/decentralized-energy-trading\n",
      "/Users/paul/Documents/projects/decentralized-energy-trading/zokrates-code\n",
      "/Users/paul/Documents/projects/decentralized-energy-trading\n",
      "Error: Transaction has been reverted by the EVM:\n",
      "{\n",
      "  \"blockHash\": \"0x21abe9a0238f09ff38f124d4615d28c47ef5d5bc072a9cc4ea7f4f17e612371e\",\n",
      "  \"blockNumber\": 2491,\n",
      "  \"contractAddress\": null,\n",
      "  \"cumulativeGasUsed\": 37767,\n",
      "  \"from\": \"0x00bd138abd70e2f00903268f3db08f2d25677c9e\",\n",
      "  \"gasUsed\": 37767,\n",
      "  \"logsBloom\": \"0x00000000000000000000000000000000000000000000000000000000000000000000000000000000000000000000000000000000000000000000000000000000000000000000000000000000000000000000000000000000000000000000000000000000000000000000000000000000000000000000000000000000000000000000000000000000000000000000000000000000000000000000000000000000000000000000000000000000000000000000000000000000000000000000000000000000000000000000000000000000000000000000000000000000000000000000000000000000000000000000000000000000000000000000000000000000\",\n",
      "  \"root\": null,\n",
      "  \"status\": false,\n",
      "  \"to\": \"0x1b6bd7927da9bad910f9125ca83dec7d4f6ba0b6\",\n",
      "  \"transactionHash\": \"0xbccf16b4977f4f9f0233feff26a87832a02789ae1f35cdcbd8414a523efecf02\",\n",
      "  \"transactionIndex\": 0,\n",
      "  \"events\": {}\n",
      "}\n",
      "    at /Users/paul/Documents/projects/decentralized-energy-trading/node_modules/web3-core-method/src/index.js:364:46\n",
      "    at process._tickCallback (internal/process/next_tick.js:68:7)\n",
      "\u001b[31mUnhandled rejection RequestError: Error: socket hang up\n",
      "    at new RequestError (/Users/paul/Documents/projects/decentralized-energy-trading/node_modules/request-promise-core/lib/errors.js:14:15)\n",
      "    at Request.plumbing.callback (/Users/paul/Documents/projects/decentralized-energy-trading/node_modules/request-promise-core/lib/plumbing.js:87:29)\n",
      "    at Request.RP$callback [as _callback] (/Users/paul/Documents/projects/decentralized-energy-trading/node_modules/request-promise-core/lib/plumbing.js:46:31)\n",
      "    at self.callback (/Users/paul/Documents/projects/decentralized-energy-trading/node_modules/request/request.js:185:22)\n",
      "    at Request.emit (events.js:182:13)\n",
      "    at Request.onRequestError (/Users/paul/Documents/projects/decentralized-energy-trading/node_modules/request/request.js:881:8)\n",
      "    at ClientRequest.emit (events.js:182:13)\n",
      "    at Socket.socketOnEnd (_http_client.js:425:9)\n",
      "    at Socket.emit (events.js:187:15)\n",
      "    at endReadableNT (_stream_readable.js:1092:12)\n",
      "    at process._tickCallback (internal/process/next_tick.js:63:19)\u001b[0m\n",
      "\n",
      "^C\n"
     ]
    }
   ],
   "source": [
    "def compile_zok():\n",
    "    value = %benchmark !zokrates compile -i settlement-check.zok --light\n",
    "    return int(value.best * 1000000)\n",
    "\n",
    "def setup_zok():\n",
    "    value = %benchmark !zokrates setup --light\n",
    "    return int(value.best * 1000000)\n",
    "\n",
    "\n",
    "%cd ..\n",
    "# reset_files()\n",
    "# hhNumbers = createhhNumbers()\n",
    "hhNumbers = [(1, 1)] \n",
    "\n",
    "\n",
    "for i in hhNumbers:\n",
    "    %cd zokrates-code\n",
    "    #generates needed files for given prod/consumer numbers\n",
    "#     !node zoKratesCodeGenerator.js {i[0]} {i[1]} benchmark\n",
    "#     compile_time.append(compile_zok())\n",
    "#     setup_time.append(setup_zok())\n",
    "#     !zokrates export-verifier\n",
    "#     !cp ./verifier.sol ../contracts/verifier.sol\n",
    "    %cd ..\n",
    "#     print(\"Compiling and deploying Contracts...\")\n",
    "#     !!truffle migrate --reset hard --network benchmark\n",
    "    !node benchmark/setup_benchmark.js {i[0]} {i[1]}\n",
    "    input(\"Press Enter when proof complete...\")\n",
    "%cd benchmark"
   ]
  },
  {
   "cell_type": "markdown",
   "metadata": {},
   "source": [
    "### Cost for Netting:"
   ]
  },
  {
   "cell_type": "code",
   "execution_count": 19,
   "metadata": {},
   "outputs": [
    {
     "data": {
      "image/png": "[encoded data removed]",
      "text/plain": [
       "<Figure size 432x288 with 1 Axes>"
      ]
     },
     "metadata": {
      "needs_background": "light"
     },
     "output_type": "display_data"
    }
   ],
   "source": [
    "x_label = list(map(lambda x: x[0] + x[1], hhNumbers))\n",
    "parseData()\n",
    "\n",
    "ax = plt.plot(x_label, [int(x) / 1000 for x in gas], '-rs')\n",
    "# plt.title('Netting Cost:')\n",
    "plt.xlabel('# of Households')\n",
    "plt.ylabel('k gas')\n",
    "plt.rcParams['axes.grid'] = True\n",
    "plt.rcParams['grid.color'] = \"#cccccc\"\n",
    "plt.savefig('exports/gas.png')"
   ]
  },
  {
   "cell_type": "markdown",
   "metadata": {},
   "source": [
    "### Witness and Proof Time:"
   ]
  },
  {
   "cell_type": "code",
   "execution_count": 20,
   "metadata": {},
   "outputs": [
    {
     "data": {
      "image/png": "[encoded data removed]",
      "text/plain": [
       "<Figure size 432x288 with 1 Axes>"
      ]
     },
     "metadata": {
      "needs_background": "light"
     },
     "output_type": "display_data"
    }
   ],
   "source": [
    "x = np.arange(len(x_label))  # the label locations\n",
    "width = 0.15  # the width of the bars\n",
    "fig, ax = plt.subplots()\n",
    "rects1 = ax.bar(x - width/2, [float(x) / 1000 for x in witness_time], width, label='Witness Time', edgecolor='#005eb8', color='#7faedb', zorder=3)\n",
    "rects2 = ax.bar(x + width/2, [float(x) / 1000 for x in proof_time], width, label='Proof Time', edgecolor='#ff4c4c', color='#ffa5a5', zorder=3)\n",
    "ax.set_ylabel('t in s')\n",
    "ax.set_xticks(x)\n",
    "ax.set_xlabel('# of Households')\n",
    "ax.set_xticklabels(x_label)\n",
    "ax.legend()\n",
    "ax.grid(zorder=0)\n",
    "fig.tight_layout()\n",
    "plt.rcParams['axes.grid'] = True\n",
    "plt.rcParams['grid.color'] = \"#cccccc\"\n",
    "plt.savefig('exports/compile-setup.png')\n",
    "plt.show()"
   ]
  },
  {
   "cell_type": "markdown",
   "metadata": {},
   "source": [
    "### ZoKrates Compile and Setup (Doesnt work yet)"
   ]
  },
  {
   "cell_type": "code",
   "execution_count": 14,
   "metadata": {},
   "outputs": [
    {
     "ename": "ValueError",
     "evalue": "shape mismatch: objects cannot be broadcast to a single shape",
     "output_type": "error",
     "traceback": [
      "\u001b[0;31m---------------------------------------------------------------------------\u001b[0m",
      "\u001b[0;31mValueError\u001b[0m                                Traceback (most recent call last)",
      "\u001b[0;32m<ipython-input-14-cae0685d11eb>\u001b[0m in \u001b[0;36m<module>\u001b[0;34m\u001b[0m\n\u001b[1;32m      2\u001b[0m \u001b[0mwidth\u001b[0m \u001b[0;34m=\u001b[0m \u001b[0;36m0.15\u001b[0m  \u001b[0;31m# the width of the bars\u001b[0m\u001b[0;34m\u001b[0m\u001b[0;34m\u001b[0m\u001b[0m\n\u001b[1;32m      3\u001b[0m \u001b[0mfig\u001b[0m\u001b[0;34m,\u001b[0m \u001b[0max\u001b[0m \u001b[0;34m=\u001b[0m \u001b[0mplt\u001b[0m\u001b[0;34m.\u001b[0m\u001b[0msubplots\u001b[0m\u001b[0;34m(\u001b[0m\u001b[0;34m)\u001b[0m\u001b[0;34m\u001b[0m\u001b[0;34m\u001b[0m\u001b[0m\n\u001b[0;32m----> 4\u001b[0;31m \u001b[0mrects1\u001b[0m \u001b[0;34m=\u001b[0m \u001b[0max\u001b[0m\u001b[0;34m.\u001b[0m\u001b[0mbar\u001b[0m\u001b[0;34m(\u001b[0m\u001b[0mx\u001b[0m \u001b[0;34m-\u001b[0m \u001b[0mwidth\u001b[0m\u001b[0;34m/\u001b[0m\u001b[0;36m2\u001b[0m\u001b[0;34m,\u001b[0m \u001b[0;34m[\u001b[0m\u001b[0mfloat\u001b[0m\u001b[0;34m(\u001b[0m\u001b[0mx\u001b[0m\u001b[0;34m)\u001b[0m \u001b[0;34m/\u001b[0m \u001b[0;36m1000\u001b[0m \u001b[0;32mfor\u001b[0m \u001b[0mx\u001b[0m \u001b[0;32min\u001b[0m \u001b[0mcompile_time\u001b[0m\u001b[0;34m]\u001b[0m\u001b[0;34m,\u001b[0m \u001b[0mwidth\u001b[0m\u001b[0;34m,\u001b[0m \u001b[0mlabel\u001b[0m\u001b[0;34m=\u001b[0m\u001b[0;34m'Compile Time'\u001b[0m\u001b[0;34m,\u001b[0m \u001b[0medgecolor\u001b[0m\u001b[0;34m=\u001b[0m\u001b[0;34m'#005eb8'\u001b[0m\u001b[0;34m,\u001b[0m \u001b[0mcolor\u001b[0m\u001b[0;34m=\u001b[0m\u001b[0;34m'#7faedb'\u001b[0m\u001b[0;34m)\u001b[0m\u001b[0;34m\u001b[0m\u001b[0;34m\u001b[0m\u001b[0m\n\u001b[0m\u001b[1;32m      5\u001b[0m \u001b[0mrects2\u001b[0m \u001b[0;34m=\u001b[0m \u001b[0max\u001b[0m\u001b[0;34m.\u001b[0m\u001b[0mbar\u001b[0m\u001b[0;34m(\u001b[0m\u001b[0mx\u001b[0m \u001b[0;34m+\u001b[0m \u001b[0mwidth\u001b[0m\u001b[0;34m/\u001b[0m\u001b[0;36m2\u001b[0m\u001b[0;34m,\u001b[0m \u001b[0;34m[\u001b[0m\u001b[0mfloat\u001b[0m\u001b[0;34m(\u001b[0m\u001b[0mx\u001b[0m\u001b[0;34m)\u001b[0m \u001b[0;34m/\u001b[0m \u001b[0;36m1000\u001b[0m \u001b[0;32mfor\u001b[0m \u001b[0mx\u001b[0m \u001b[0;32min\u001b[0m \u001b[0msetup_time\u001b[0m\u001b[0;34m]\u001b[0m\u001b[0;34m,\u001b[0m \u001b[0mwidth\u001b[0m\u001b[0;34m,\u001b[0m \u001b[0mlabel\u001b[0m\u001b[0;34m=\u001b[0m\u001b[0;34m'Setup Time'\u001b[0m\u001b[0;34m,\u001b[0m \u001b[0medgecolor\u001b[0m\u001b[0;34m=\u001b[0m\u001b[0;34m'#ff4c4c'\u001b[0m\u001b[0;34m,\u001b[0m \u001b[0mcolor\u001b[0m\u001b[0;34m=\u001b[0m\u001b[0;34m'#ffa5a5'\u001b[0m\u001b[0;34m)\u001b[0m\u001b[0;34m\u001b[0m\u001b[0;34m\u001b[0m\u001b[0m\n\u001b[1;32m      6\u001b[0m \u001b[0max\u001b[0m\u001b[0;34m.\u001b[0m\u001b[0mset_ylabel\u001b[0m\u001b[0;34m(\u001b[0m\u001b[0;34m't in s'\u001b[0m\u001b[0;34m)\u001b[0m\u001b[0;34m\u001b[0m\u001b[0;34m\u001b[0m\u001b[0m\n",
      "\u001b[0;32m~/anaconda3/lib/python3.7/site-packages/matplotlib/__init__.py\u001b[0m in \u001b[0;36minner\u001b[0;34m(ax, data, *args, **kwargs)\u001b[0m\n\u001b[1;32m   1587\u001b[0m     \u001b[0;32mdef\u001b[0m \u001b[0minner\u001b[0m\u001b[0;34m(\u001b[0m\u001b[0max\u001b[0m\u001b[0;34m,\u001b[0m \u001b[0;34m*\u001b[0m\u001b[0margs\u001b[0m\u001b[0;34m,\u001b[0m \u001b[0mdata\u001b[0m\u001b[0;34m=\u001b[0m\u001b[0;32mNone\u001b[0m\u001b[0;34m,\u001b[0m \u001b[0;34m**\u001b[0m\u001b[0mkwargs\u001b[0m\u001b[0;34m)\u001b[0m\u001b[0;34m:\u001b[0m\u001b[0;34m\u001b[0m\u001b[0;34m\u001b[0m\u001b[0m\n\u001b[1;32m   1588\u001b[0m         \u001b[0;32mif\u001b[0m \u001b[0mdata\u001b[0m \u001b[0;32mis\u001b[0m \u001b[0;32mNone\u001b[0m\u001b[0;34m:\u001b[0m\u001b[0;34m\u001b[0m\u001b[0;34m\u001b[0m\u001b[0m\n\u001b[0;32m-> 1589\u001b[0;31m             \u001b[0;32mreturn\u001b[0m \u001b[0mfunc\u001b[0m\u001b[0;34m(\u001b[0m\u001b[0max\u001b[0m\u001b[0;34m,\u001b[0m \u001b[0;34m*\u001b[0m\u001b[0mmap\u001b[0m\u001b[0;34m(\u001b[0m\u001b[0msanitize_sequence\u001b[0m\u001b[0;34m,\u001b[0m \u001b[0margs\u001b[0m\u001b[0;34m)\u001b[0m\u001b[0;34m,\u001b[0m \u001b[0;34m**\u001b[0m\u001b[0mkwargs\u001b[0m\u001b[0;34m)\u001b[0m\u001b[0;34m\u001b[0m\u001b[0;34m\u001b[0m\u001b[0m\n\u001b[0m\u001b[1;32m   1590\u001b[0m \u001b[0;34m\u001b[0m\u001b[0m\n\u001b[1;32m   1591\u001b[0m         \u001b[0mbound\u001b[0m \u001b[0;34m=\u001b[0m \u001b[0mnew_sig\u001b[0m\u001b[0;34m.\u001b[0m\u001b[0mbind\u001b[0m\u001b[0;34m(\u001b[0m\u001b[0max\u001b[0m\u001b[0;34m,\u001b[0m \u001b[0;34m*\u001b[0m\u001b[0margs\u001b[0m\u001b[0;34m,\u001b[0m \u001b[0;34m**\u001b[0m\u001b[0mkwargs\u001b[0m\u001b[0;34m)\u001b[0m\u001b[0;34m\u001b[0m\u001b[0;34m\u001b[0m\u001b[0m\n",
      "\u001b[0;32m~/anaconda3/lib/python3.7/site-packages/matplotlib/axes/_axes.py\u001b[0m in \u001b[0;36mbar\u001b[0;34m(self, x, height, width, bottom, align, **kwargs)\u001b[0m\n\u001b[1;32m   2373\u001b[0m         x, height, width, y, linewidth = np.broadcast_arrays(\n\u001b[1;32m   2374\u001b[0m             \u001b[0;31m# Make args iterable too.\u001b[0m\u001b[0;34m\u001b[0m\u001b[0;34m\u001b[0m\u001b[0;34m\u001b[0m\u001b[0m\n\u001b[0;32m-> 2375\u001b[0;31m             np.atleast_1d(x), height, width, y, linewidth)\n\u001b[0m\u001b[1;32m   2376\u001b[0m \u001b[0;34m\u001b[0m\u001b[0m\n\u001b[1;32m   2377\u001b[0m         \u001b[0;31m# Now that units have been converted, set the tick locations.\u001b[0m\u001b[0;34m\u001b[0m\u001b[0;34m\u001b[0m\u001b[0;34m\u001b[0m\u001b[0m\n",
      "\u001b[0;32m~/anaconda3/lib/python3.7/site-packages/numpy/lib/stride_tricks.py\u001b[0m in \u001b[0;36mbroadcast_arrays\u001b[0;34m(*args, **kwargs)\u001b[0m\n\u001b[1;32m    257\u001b[0m     \u001b[0margs\u001b[0m \u001b[0;34m=\u001b[0m \u001b[0;34m[\u001b[0m\u001b[0mnp\u001b[0m\u001b[0;34m.\u001b[0m\u001b[0marray\u001b[0m\u001b[0;34m(\u001b[0m\u001b[0m_m\u001b[0m\u001b[0;34m,\u001b[0m \u001b[0mcopy\u001b[0m\u001b[0;34m=\u001b[0m\u001b[0;32mFalse\u001b[0m\u001b[0;34m,\u001b[0m \u001b[0msubok\u001b[0m\u001b[0;34m=\u001b[0m\u001b[0msubok\u001b[0m\u001b[0;34m)\u001b[0m \u001b[0;32mfor\u001b[0m \u001b[0m_m\u001b[0m \u001b[0;32min\u001b[0m \u001b[0margs\u001b[0m\u001b[0;34m]\u001b[0m\u001b[0;34m\u001b[0m\u001b[0;34m\u001b[0m\u001b[0m\n\u001b[1;32m    258\u001b[0m \u001b[0;34m\u001b[0m\u001b[0m\n\u001b[0;32m--> 259\u001b[0;31m     \u001b[0mshape\u001b[0m \u001b[0;34m=\u001b[0m \u001b[0m_broadcast_shape\u001b[0m\u001b[0;34m(\u001b[0m\u001b[0;34m*\u001b[0m\u001b[0margs\u001b[0m\u001b[0;34m)\u001b[0m\u001b[0;34m\u001b[0m\u001b[0;34m\u001b[0m\u001b[0m\n\u001b[0m\u001b[1;32m    260\u001b[0m \u001b[0;34m\u001b[0m\u001b[0m\n\u001b[1;32m    261\u001b[0m     \u001b[0;32mif\u001b[0m \u001b[0mall\u001b[0m\u001b[0;34m(\u001b[0m\u001b[0marray\u001b[0m\u001b[0;34m.\u001b[0m\u001b[0mshape\u001b[0m \u001b[0;34m==\u001b[0m \u001b[0mshape\u001b[0m \u001b[0;32mfor\u001b[0m \u001b[0marray\u001b[0m \u001b[0;32min\u001b[0m \u001b[0margs\u001b[0m\u001b[0;34m)\u001b[0m\u001b[0;34m:\u001b[0m\u001b[0;34m\u001b[0m\u001b[0;34m\u001b[0m\u001b[0m\n",
      "\u001b[0;32m~/anaconda3/lib/python3.7/site-packages/numpy/lib/stride_tricks.py\u001b[0m in \u001b[0;36m_broadcast_shape\u001b[0;34m(*args)\u001b[0m\n\u001b[1;32m    191\u001b[0m     \u001b[0;31m# use the old-iterator because np.nditer does not handle size 0 arrays\u001b[0m\u001b[0;34m\u001b[0m\u001b[0;34m\u001b[0m\u001b[0;34m\u001b[0m\u001b[0m\n\u001b[1;32m    192\u001b[0m     \u001b[0;31m# consistently\u001b[0m\u001b[0;34m\u001b[0m\u001b[0;34m\u001b[0m\u001b[0;34m\u001b[0m\u001b[0m\n\u001b[0;32m--> 193\u001b[0;31m     \u001b[0mb\u001b[0m \u001b[0;34m=\u001b[0m \u001b[0mnp\u001b[0m\u001b[0;34m.\u001b[0m\u001b[0mbroadcast\u001b[0m\u001b[0;34m(\u001b[0m\u001b[0;34m*\u001b[0m\u001b[0margs\u001b[0m\u001b[0;34m[\u001b[0m\u001b[0;34m:\u001b[0m\u001b[0;36m32\u001b[0m\u001b[0;34m]\u001b[0m\u001b[0;34m)\u001b[0m\u001b[0;34m\u001b[0m\u001b[0;34m\u001b[0m\u001b[0m\n\u001b[0m\u001b[1;32m    194\u001b[0m     \u001b[0;31m# unfortunately, it cannot handle 32 or more arguments directly\u001b[0m\u001b[0;34m\u001b[0m\u001b[0;34m\u001b[0m\u001b[0;34m\u001b[0m\u001b[0m\n\u001b[1;32m    195\u001b[0m     \u001b[0;32mfor\u001b[0m \u001b[0mpos\u001b[0m \u001b[0;32min\u001b[0m \u001b[0mrange\u001b[0m\u001b[0;34m(\u001b[0m\u001b[0;36m32\u001b[0m\u001b[0;34m,\u001b[0m \u001b[0mlen\u001b[0m\u001b[0;34m(\u001b[0m\u001b[0margs\u001b[0m\u001b[0;34m)\u001b[0m\u001b[0;34m,\u001b[0m \u001b[0;36m31\u001b[0m\u001b[0;34m)\u001b[0m\u001b[0;34m:\u001b[0m\u001b[0;34m\u001b[0m\u001b[0;34m\u001b[0m\u001b[0m\n",
      "\u001b[0;31mValueError\u001b[0m: shape mismatch: objects cannot be broadcast to a single shape"
     ]
    },
    {
     "data": {
      "image/png": "[encoded data removed]",
      "text/plain": [
       "<Figure size 432x288 with 1 Axes>"
      ]
     },
     "metadata": {
      "needs_background": "light"
     },
     "output_type": "display_data"
    }
   ],
   "source": [
    "x = np.arange(len(x_label))  # the label locations\n",
    "width = 0.15  # the width of the bars\n",
    "fig, ax = plt.subplots()\n",
    "rects1 = ax.bar(x - width/2, [float(x) / 1000 for x in compile_time], width, label='Compile Time', edgecolor='#005eb8', color='#7faedb')\n",
    "rects2 = ax.bar(x + width/2, [float(x) / 1000 for x in setup_time], width, label='Setup Time', edgecolor='#ff4c4c', color='#ffa5a5')\n",
    "ax.set_ylabel('t in s')\n",
    "ax.set_xticks(x)\n",
    "ax.set_xlabel('# of Households')\n",
    "ax.set_xticklabels(x_label)\n",
    "ax.legend()\n",
    "fig.tight_layout()\n",
    "plt.rcParams['axes.grid'] = True\n",
    "plt.rcParams['grid.color'] = \"#cccccc\"\n",
    "plt.savefig('exports/compile-setup.png')\n",
    "plt.show()"
   ]
  },
  {
   "cell_type": "code",
   "execution_count": null,
   "metadata": {},
   "outputs": [],
   "source": [
    "#load data:\n",
    "\n",
    "\n",
    "\n",
    "x = np.arange(len(x_label))  # the label locations\n",
    "width = 0.15  # the width of the bars\n",
    "fig, ax = plt.subplots()\n",
    "rects1 = ax.bar(x - width/2, [float(x) / 1000 for x in compile_time], width, label='Compile Time', edgecolor='#005eb8', color='#7faedb')\n",
    "rects2 = ax.bar(x + width/2, [float(x) / 1000 for x in setup_time], width, label='Setup Time', edgecolor='#ff4c4c', color='#ffa5a5')\n",
    "ax.set_ylabel('t in s')\n",
    "ax.set_xticks(x)\n",
    "ax.set_xlabel('# of Households')\n",
    "ax.set_xticklabels(x_label)\n",
    "ax.legend()\n",
    "fig.tight_layout()\n",
    "plt.rcParams['axes.grid'] = True\n",
    "plt.rcParams['grid.color'] = \"#cccccc\"\n",
    "plt.savefig('exports/compile-setup.png')\n",
    "plt.show()"
   ]
  }
 ],
 "metadata": {
  "kernelspec": {
   "display_name": "Python 3",
   "language": "python",
   "name": "python3"
  },
  "language_info": {
   "codemirror_mode": {
    "name": "ipython",
    "version": 3
   },
   "file_extension": ".py",
   "mimetype": "text/x-python",
   "name": "python",
   "nbconvert_exporter": "python",
   "pygments_lexer": "ipython3",
   "version": "3.7.3"
  }
 },
 "nbformat": 4,
 "nbformat_minor": 2
}
