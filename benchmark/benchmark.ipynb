{
 "cells": [
  {
   "cell_type": "markdown",
   "metadata": {},
   "source": [
    "## System Benchmarking Tool for Decentralized Energy Trading\n"
   ]
  },
  {
   "cell_type": "markdown",
   "metadata": {},
   "source": [
    "### Imports"
   ]
  },
  {
   "cell_type": "code",
   "execution_count": 7,
   "metadata": {},
   "outputs": [],
   "source": [
    "%%capture\n",
    "import sys\n",
    "import json\n",
    "import os\n",
    "import matplotlib.pyplot as plt\n",
    "import math\n",
    "import numpy as np\n",
    "!{sys.executable} -m pip intall web3\n",
    "!{sys.executable} -m pip install matplotlib\n",
    "\n"
   ]
  },
  {
   "cell_type": "markdown",
   "metadata": {},
   "source": [
    "### Configuration\n",
    "- n - max. number of households to be benchmarked\n",
    "- shareProducers - share of producing households\n"
   ]
  },
  {
   "cell_type": "code",
   "execution_count": 8,
   "metadata": {},
   "outputs": [],
   "source": [
    "n = 5\n",
    "shareProducers = 0.15\n"
   ]
  },
  {
   "cell_type": "markdown",
   "metadata": {},
   "source": [
    "### Generate Contracts"
   ]
  },
  {
   "cell_type": "code",
   "execution_count": null,
   "metadata": {
    "scrolled": true
   },
   "outputs": [
    {
     "name": "stdout",
     "output_type": "stream",
     "text": [
      "Created `%benchmark` as an alias for `%timeit -n 1 -r 1 -o`.\n",
      "Created `%%benchmark` as an alias for `%%timeit -n 1 -r 1 -o`.\n",
      "/Users/paul/Documents/projects/decentralized-energy-trading\n",
      "/Users/paul/Documents/projects/decentralized-energy-trading/zokrates-code\n",
      "Wrong or no network provided...Default network: authority\n",
      "# of HHs with Energy:  1\n",
      "# of HHs without Energy:  1\n",
      "Generating zoKrates-Code for n = 1 HHs with Energy & m = 1 HHs without Energy and saving it to a file...\n",
      "Generating the corresponding code for the Configuration of the NED-Server...\n",
      "Saving the generated code to the ned-server-config.js File...\n",
      "Generating the corresponding Solidity Contracts...\n",
      "Saving the generated code to the corresponding Solidity-Contract Files...\n",
      "Saving the generated code to the ned-server-config.js File...\n",
      "Done!\n",
      "Compiling settlement-check.zok\n",
      "\n",
      "Compiled code written to 'out'\n",
      "Number of constraints: 118557\n",
      "Performing setup...\n",
      "WARNING: You are using the G16 scheme which is subject to malleability. See zokrates.github.io/reference/proving_schemes.html#g16-malleability for implications.\n",
      "Has generated 114349 points\n",
      "Exporting verifier...\n",
      "Finished exporting verifier.\n",
      "/Users/paul/Documents/projects/decentralized-energy-trading\n",
      "Compiling and deploying Contracts...\n",
      "adds:  [ \u001b[32m'0x5feceb66ffc86f38d952786c6d696c79c2dbc239'\u001b[39m,\n",
      "  \u001b[32m'0x6b86b273ff34fce19d6b804eff5a3f5747ada4ea'\u001b[39m ]\n",
      "\u001b[33m2\u001b[39m \u001b[32m' - '\u001b[39m \u001b[33m2\u001b[39m\n",
      "Hash:  0x81b5048918e443194fdb5bbd783fda26ae77044b6c35f9af20c6996673873769\n",
      "Hash:  0x81b5048918e443194fdb5bbd783fda26ae77044b6c35f9af20c6996673873769\n",
      "tx done\n",
      "/Users/paul/Documents/projects/decentralized-energy-trading\n",
      "['774063']\n",
      "[4013.4959419965744]\n",
      "[1637.4843319952488]\n",
      "/Users/paul/Documents/projects/decentralized-energy-trading/zokrates-code\n",
      "Wrong or no network provided...Default network: authority\n",
      "# of HHs with Energy:  1\n",
      "# of HHs without Energy:  2\n",
      "Generating zoKrates-Code for n = 1 HHs with Energy & m = 2 HHs without Energy and saving it to a file...\n",
      "Generating the corresponding code for the Configuration of the NED-Server...\n",
      "Saving the generated code to the ned-server-config.js File...\n",
      "Generating the corresponding Solidity Contracts...\n",
      "Saving the generated code to the corresponding Solidity-Contract Files...\n",
      "Saving the generated code to the ned-server-config.js File...\n",
      "Done!\n",
      "Compiling settlement-check.zok\n",
      "\n",
      "Compiled code written to 'out'\n",
      "Number of constraints: 177069\n",
      "Performing setup...\n",
      "WARNING: You are using the G16 scheme which is subject to malleability. See zokrates.github.io/reference/proving_schemes.html#g16-malleability for implications.\n"
     ]
    }
   ],
   "source": [
    "witness_time = []\n",
    "proof_time = []\n",
    "gas = []\n",
    "%alias_magic benchmark timeit -p \"-n 1 -r 1 -o\"\n",
    "\n",
    "def calcProducerConsumer(num):\n",
    "    if math.ceil(num * shareProducers) > 1:\n",
    "        wE = num * shareProducers\n",
    "        nE = n - wE\n",
    "    else:\n",
    "        wE = 1\n",
    "        nE = num - wE\n",
    "    return wE, nE\n",
    "\n",
    "# counts constraints by looking into out.ztf\n",
    "def count_constraints():\n",
    "    f = open(\"./out.ztf\",'r')\n",
    "    constraints.append(len(list(filter(lambda x: \"==\" in x, f.readlines()))))\n",
    "    \n",
    "def compile_file(file):\n",
    "    value = %benchmark !zokrates compile -i settlement-check.zok --light\n",
    "    return int(value.best * 1000000)\n",
    "\n",
    "def setup():\n",
    "    value = %benchmark !zokrates setup --light\n",
    "    return int(value.best * 1000000)\n",
    "\n",
    "def parseData():\n",
    "    !pwd\n",
    "    with open('tmp/zokrates_exec_time.json') as json_file:\n",
    "        data = json.load(json_file)\n",
    "        witness_time.append(data[0])\n",
    "        proof_time.append(data[1])\n",
    "    gasFile = open(\"tmp/gas.txt\", \"r\")\n",
    "    gas.append(gasFile.read())\n",
    "    print(gas)\n",
    "    print(proof_time)\n",
    "    print(witness_time)\n",
    "\n",
    "%cd ..\n",
    "for i in range(2, n + 1):\n",
    "    wE, nE = calcProducerConsumer(i)\n",
    "    %cd zokrates-code\n",
    "    !node zoKratesCodeGenerator.js {wE} {nE}\n",
    "    !zokrates compile -i settlement-check.zok --light\n",
    "    !zokrates setup --light\n",
    "    !zokrates export-verifier\n",
    "    !cp ./verifier.sol ../contracts/verifier.sol\n",
    "    %cd ..\n",
    "    print(\"Compiling and deploying Contracts...\")\n",
    "    !!truffle migrate --reset hard --network benchmark\n",
    "    !node benchmark/setup_benchmark.js {wE} {nE}\n",
    "    parseData()\n",
    "%cd benchmark"
   ]
  },
  {
   "cell_type": "code",
   "execution_count": null,
   "metadata": {},
   "outputs": [],
   "source": [
    "\n",
    "    "
   ]
  },
  {
   "cell_type": "code",
   "execution_count": 10,
   "metadata": {},
   "outputs": [
    {
     "data": {
      "image/png": "[encoded data removed]",
      "text/plain": [
       "<Figure size 432x288 with 1 Axes>"
      ]
     },
     "metadata": {
      "needs_background": "light"
     },
     "output_type": "display_data"
    }
   ],
   "source": [
    "ax = plt.plot(list(range(1, len(gas) + 1)), [float(x) / 1000 for x in gas], '-rs')\n",
    "plt.title('Netting Cost:')\n",
    "plt.xlabel('# of Households')\n",
    "plt.ylabel('k gas')\n",
    "plt.rcParams['axes.grid'] = True\n",
    "plt.rcParams['grid.color'] = \"#cccccc\"\n",
    "plt.savefig('exports/gas.png')"
   ]
  },
  {
   "cell_type": "markdown",
   "metadata": {},
   "source": [
    "%cd zokrates-code\n",
    "!node zoKratesCodeGenerator.js {wE} {nE}"
   ]
  },
  {
   "cell_type": "code",
   "execution_count": 14,
   "metadata": {},
   "outputs": [
    {
     "data": {
      "image/png": "[encoded data removed]",
      "text/plain": [
       "<Figure size 432x288 with 1 Axes>"
      ]
     },
     "metadata": {
      "needs_background": "light"
     },
     "output_type": "display_data"
    }
   ],
   "source": [
    "x = np.arange(n - 1)  # the label locations\n",
    "width = 0.15  # the width of the bars\n",
    "\n",
    "fig, ax = plt.subplots()\n",
    "rects1 = ax.bar(x - width/2, witness_time, width, label='Witness Time', edgecolor='#005eb8', color='#7faedb')\n",
    "rects2 = ax.bar(x + width/2, proof_time, width, label='Proof Time', edgecolor='#ff4c4c', color='#ffa5a5')\n",
    "ax.set_ylabel('t in μs')\n",
    "ax.set_xticks(x)\n",
    "ax.set_xlabel('# of Households')\n",
    "ax.set_xticklabels(range(2, n + 1))\n",
    "ax.legend()\n",
    "ax.semilogy(np.exp(0 / max(proof_time)))\n",
    "ax.set_ylim(ymin=1000)\n",
    "fig.tight_layout()\n",
    "plt.rcParams['axes.grid'] = True\n",
    "plt.rcParams['grid.color'] = \"#cccccc\"\n",
    "plt.savefig('exports/compile-setup.png')\n",
    "plt.show()"
   ]
  },
  {
   "cell_type": "code",
   "execution_count": null,
   "metadata": {},
   "outputs": [],
   "source": []
  },
  {
   "cell_type": "code",
   "execution_count": null,
   "metadata": {},
   "outputs": [],
   "source": []
  }
 ],
 "metadata": {
  "file_extension": ".py",
  "kernelspec": {
   "display_name": "Python 3",
   "language": "python",
   "name": "python3"
  },
  "language_info": {
   "codemirror_mode": {
    "name": "ipython",
    "version": 3
   },
   "file_extension": ".py",
   "mimetype": "text/x-python",
   "name": "python",
   "nbconvert_exporter": "python",
   "pygments_lexer": "ipython3",
   "version": "3.7.3"
  },
  "mimetype": "text/x-python",
  "name": "python",
  "npconvert_exporter": "python",
  "pygments_lexer": "ipython3",
  "version": 3
 },
 "nbformat": 4,
 "nbformat_minor": 2
}
