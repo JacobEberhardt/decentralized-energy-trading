{
 "cells": [
  {
   "cell_type": "markdown",
   "metadata": {},
   "source": [
    "## System Benchmarking Tool for Decentralized Energy Trading\n"
   ]
  },
  {
   "cell_type": "markdown",
   "metadata": {},
   "source": [
    "### Imports"
   ]
  },
  {
   "cell_type": "code",
   "execution_count": 4,
   "metadata": {},
   "outputs": [],
   "source": [
    "%%capture\n",
    "import sys\n",
    "import os\n",
    "import math\n",
    "!{sys.executable} -m pip intall web3\n",
    "!{sys.executable} -m pip install matplotlib\n",
    "\n"
   ]
  },
  {
   "cell_type": "markdown",
   "metadata": {},
   "source": [
    "### Configuration\n",
    "- n - max. number of households to be benchmarked\n",
    "- shareProducers - share of producing households\n"
   ]
  },
  {
   "cell_type": "code",
   "execution_count": 5,
   "metadata": {},
   "outputs": [],
   "source": [
    "n = 5\n",
    "shareProducers = 0.15\n"
   ]
  },
  {
   "cell_type": "markdown",
   "metadata": {},
   "source": [
    "### Generate Contracts"
   ]
  },
  {
   "cell_type": "code",
   "execution_count": null,
   "metadata": {
    "scrolled": true
   },
   "outputs": [
    {
     "name": "stdout",
     "output_type": "stream",
     "text": [
      "Created `%benchmark` as an alias for `%timeit -n 1 -r 1 -o`.\n",
      "Created `%%benchmark` as an alias for `%%timeit -n 1 -r 1 -o`.\n",
      "/Users/paul/Documents/projects/decentralized-energy-trading\n",
      "/Users/paul/Documents/projects/decentralized-energy-trading/zokrates-code\n",
      "# of HHs with Energy:  1\n",
      "# of HHs without Energy:  1\n",
      "Generating zoKrates-Code for n = 1 HHs with Energy & m = 1 HHs without Energy and saving it to a file...\n",
      "Generating the corresponding code for the Configuration of the NED-Server...\n",
      "Saving the generated code to the ned-server-config.js File...\n",
      "Generating the corresponding Solidity Contracts...\n",
      "Saving the generated code to the corresponding Solidity-Contract Files...\n",
      "Saving the generated code to the ned-server-config.js File...\n",
      "Done!\n"
     ]
    }
   ],
   "source": [
    "setup_time = []\n",
    "witness_time = []\n",
    "proof_time = []\n",
    "constraints = []\n",
    "%alias_magic benchmark timeit -p \"-n 1 -r 1 -o\"\n",
    "\n",
    "def calcProducerConsumer(num):\n",
    "    if math.ceil(num * shareProducers) > 1:\n",
    "        wE = num * shareProducers\n",
    "        nE = n - wE\n",
    "    else:\n",
    "        wE = 1\n",
    "        nE = num - wE\n",
    "    return wE, nE\n",
    "\n",
    "# counts constraints by looking into out.ztf\n",
    "def count_constraints():\n",
    "    f = open(\"./out.ztf\",'r')\n",
    "    constraints.append(len(list(filter(lambda x: \"==\" in x, f.readlines()))))\n",
    "    \n",
    "def compile_file(file):\n",
    "    value = %benchmark !zokrates compile -i settlement-check.zok --light\n",
    "    return int(value.best * 1000000)\n",
    "\n",
    "def setup():\n",
    "    value = %benchmark !zokrates setup --light\n",
    "    return int(value.best * 1000000)\n",
    "\n",
    "%cd ..\n",
    "for i in range(2, n + 1):\n",
    "    wE, nE = calcProducerConsumer(i)\n",
    "    %cd zokrates-code\n",
    "    !node zoKratesCodeGenerator.js {wE} {nE}\n",
    "    !zokrates compile -i settlement-check.zok --light\n",
    "    !zokrates setup --light\n",
    "    !zokrates export-verifier\n",
    "    !pwd\n",
    "    !cp ./verifier.sol ../contracts/verifier.sol\n",
    "#     count_constraints()\n",
    "    %cd ..\n",
    "#     !truffle compile\n",
    "    print(\"Compiling and deploying Contracts...\")\n",
    "    !truffle migrate --reset hard --network benchmark\n",
    "    !node benchmark/setup_benchmark.js {wE} {nE}\n",
    "%cd benchmark"
   ]
  },
  {
   "cell_type": "code",
   "execution_count": null,
   "metadata": {},
   "outputs": [],
   "source": []
  },
  {
   "cell_type": "code",
   "execution_count": null,
   "metadata": {},
   "outputs": [],
   "source": []
  },
  {
   "cell_type": "markdown",
   "metadata": {},
   "source": [
    "%cd zokrates-code\n",
    "!node zoKratesCodeGenerator.js {wE} {nE}"
   ]
  },
  {
   "cell_type": "code",
   "execution_count": null,
   "metadata": {},
   "outputs": [],
   "source": []
  }
 ],
 "metadata": {
  "file_extension": ".py",
  "kernelspec": {
   "display_name": "Python 3",
   "language": "python",
   "name": "python3"
  },
  "language_info": {
   "codemirror_mode": {
    "name": "ipython",
    "version": 3
   },
   "file_extension": ".py",
   "mimetype": "text/x-python",
   "name": "python",
   "nbconvert_exporter": "python",
   "pygments_lexer": "ipython3",
   "version": "3.7.3"
  },
  "mimetype": "text/x-python",
  "name": "python",
  "npconvert_exporter": "python",
  "pygments_lexer": "ipython3",
  "version": 3
 },
 "nbformat": 4,
 "nbformat_minor": 2
}
