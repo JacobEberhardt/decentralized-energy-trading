{
 "cells": [
  {
   "cell_type": "markdown",
   "metadata": {},
   "source": [
    "## System Benchmarking Tool for Decentralized Energy Trading\n"
   ]
  },
  {
   "cell_type": "markdown",
   "metadata": {},
   "source": [
    "### Imports"
   ]
  },
  {
   "cell_type": "code",
   "execution_count": 1,
   "metadata": {},
   "outputs": [],
   "source": [
    "%%capture\n",
    "import sys\n",
    "import os\n",
    "import math\n",
    "!{sys.executable} -m pip install web3\n",
    "!{sys.executable} -m pip install matplotlib\n",
    "\n"
   ]
  },
  {
   "cell_type": "markdown",
   "metadata": {},
   "source": [
    "### Configuration\n",
    "- n - max. number of households to be benchmarked\n",
    "- shareProducers - share of producing households\n"
   ]
  },
  {
   "cell_type": "code",
   "execution_count": 2,
   "metadata": {},
   "outputs": [],
   "source": [
    "n = 2\n",
    "shareProducers = 0.15\n"
   ]
  },
  {
   "cell_type": "markdown",
   "metadata": {},
   "source": [
    "### Generate Contracts"
   ]
  },
  {
   "cell_type": "code",
   "execution_count": 4,
   "metadata": {
    "scrolled": true
   },
   "outputs": [
    {
     "name": "stdout",
     "output_type": "stream",
     "text": [
      "Created `%benchmark` as an alias for `%timeit -n 1 -r 1 -o`.\n",
      "Created `%%benchmark` as an alias for `%%timeit -n 1 -r 1 -o`.\n",
      "/Users/paul/Documents/projects/decentralized-energy-trading\n",
      "/Users/paul/Documents/projects/decentralized-energy-trading/zokrates-code\n",
      "/Users/paul/Documents/projects/decentralized-energy-trading\n",
      "adds:  [ \u001b[32m'0x5feceb66ffc86f38d952786c6d696c79c2dbc239'\u001b[39m,\n",
      "  \u001b[32m'0x6b86b273ff34fce19d6b804eff5a3f5747ada4ea'\u001b[39m ]\n",
      "MeterDeltas:  [ \u001b[32m'156600'\u001b[39m, \u001b[32m'-140760'\u001b[39m ]\n",
      "Hash:  0x81b5048918e443194fdb5bbd783fda26ae77044b6c35f9af20c6996673873769\n",
      "Hash:  0xc41c33252ac0307eddb9dc6c0f4c0eb577f2ce6e8c4b8cc1be7c2f9182c30e44\n",
      "Hashed Array of meterDeltas:  [ \u001b[32m'0x81b5048918e443194fdb5bbd783fda26ae77044b6c35f9af20c6996673873769'\u001b[39m,\n",
      "  \u001b[32m'0xc41c33252ac0307eddb9dc6c0f4c0eb577f2ce6e8c4b8cc1be7c2f9182c30e44'\u001b[39m ]\n",
      "Contract Deployed! Gas used: 2113012\n",
      "Sending data to the NED...\n",
      "Hash:  0x81b5048918e443194fdb5bbd783fda26ae77044b6c35f9af20c6996673873769\n",
      "Hash:  0xc41c33252ac0307eddb9dc6c0f4c0eb577f2ce6e8c4b8cc1be7c2f9182c30e44\n",
      "tx done\n",
      "{ transactionHash:\n",
      "   \u001b[32m'0x87c759014435ea27bc61d98230e3c0cedede9d7385fd6f78444949f1ae4c0fe6'\u001b[39m,\n",
      "  transactionIndex: \u001b[33m0\u001b[39m,\n",
      "  blockHash:\n",
      "   \u001b[32m'0xc830c8ef581d3142a32d960f7938afccab39b04cac688f96db5e14da57532f12'\u001b[39m,\n",
      "  blockNumber: \u001b[33m6\u001b[39m,\n",
      "  from: \u001b[32m'0x8292368a73572fb0847119365edaae69fd05a004'\u001b[39m,\n",
      "  to: \u001b[32m'0xd66ef05cce47449bcb6b4118c64e3adf12428ea9'\u001b[39m,\n",
      "  gasUsed: \u001b[33m161182\u001b[39m,\n",
      "  cumulativeGasUsed: \u001b[33m161182\u001b[39m,\n",
      "  contractAddress: \u001b[1mnull\u001b[22m,\n",
      "  status: \u001b[33mtrue\u001b[39m,\n",
      "  logsBloom:\n",
      "   \u001b[32m'0x00000000000000000000000000000000000000000000000000000000040000000400000000000000000000000000200000000000000000000000000000000000000000400000000000000000000000000000000000008000000000004000000000004000000000000000000000000000000000000000000800000000000000000000000000000000000000000000000000000000000000000000000000000000000000000000104000200000000000000000000000000000000000000000000000000800000000000000000000000000000000000000000000000000000000000000000000000010000000000000000000000002000000000040000000000000'\u001b[39m,\n",
      "  v: \u001b[32m'0x1c'\u001b[39m,\n",
      "  r:\n",
      "   \u001b[32m'0x9d0cd4d96a8f00a68bf83366717497cfd8b6044f6f0123151a3b0558bf801612'\u001b[39m,\n",
      "  s:\n",
      "   \u001b[32m'0x5e69780865fb4b956157bf9c133d8890231ef8a4b71ae93a2787ee7c344023b4'\u001b[39m,\n",
      "  events:\n",
      "   { NewHousehold: [ \u001b[36m[Object]\u001b[39m, \u001b[36m[Object]\u001b[39m ],\n",
      "     RenewableEnergyChanged: [ \u001b[36m[Object]\u001b[39m, \u001b[36m[Object]\u001b[39m ] } }\n",
      "/Users/paul/Documents/projects/decentralized-energy-trading/benchmarking\n"
     ]
    }
   ],
   "source": [
    "setup_time = []\n",
    "witness_time = []\n",
    "proof_time = []\n",
    "constraints = []\n",
    "%alias_magic benchmark timeit -p \"-n 1 -r 1 -o\"\n",
    "\n",
    "def calcProducerConsumer(num):\n",
    "    if math.ceil(num * shareProducers) > 1:\n",
    "        wE = num * shareProducers\n",
    "        nE = n - wE\n",
    "    else:\n",
    "        wE = 1\n",
    "        nE = num - wE\n",
    "    return wE, nE\n",
    "\n",
    "# counts constraints by looking into out.ztf\n",
    "def count_constraints():\n",
    "    f = open(\"./out.ztf\",'r')\n",
    "    constraints.append(len(list(filter(lambda x: \"==\" in x, f.readlines()))))\n",
    "    \n",
    "def compile_file(file):\n",
    "    value = %benchmark !zokrates compile -i settlement-check.zok --light\n",
    "    return int(value.best * 1000000)\n",
    "\n",
    "def setup():\n",
    "    value = %benchmark !zokrates setup --light\n",
    "    return int(value.best * 1000000)\n",
    "\n",
    "%cd ..\n",
    "for i in range(2, n + 1):\n",
    "    wE, nE = calcProducerConsumer(i)\n",
    "    %cd zokrates-code\n",
    "#     !node zoKratesCodeGenerator.js {wE} {nE}\n",
    "#     !zokrates compile -i settlement-check.zok --light\n",
    "#     !zokrates setup --light\n",
    "#     count_constraints()\n",
    "    %cd ..\n",
    "#     !truffle compile\n",
    "    !node benchmarking/setup_benchmark.js {wE} {nE}\n",
    "%cd benchmarking"
   ]
  },
  {
   "cell_type": "code",
   "execution_count": null,
   "metadata": {},
   "outputs": [],
   "source": []
  },
  {
   "cell_type": "code",
   "execution_count": null,
   "metadata": {},
   "outputs": [],
   "source": []
  },
  {
   "cell_type": "markdown",
   "metadata": {},
   "source": [
    "%cd zokrates-code\n",
    "!node zoKratesCodeGenerator.js {wE} {nE}"
   ]
  },
  {
   "cell_type": "code",
   "execution_count": null,
   "metadata": {},
   "outputs": [],
   "source": []
  }
 ],
 "metadata": {
  "file_extension": ".py",
  "kernelspec": {
   "display_name": "Python 3",
   "language": "python",
   "name": "python3"
  },
  "language_info": {
   "codemirror_mode": {
    "name": "ipython",
    "version": 3
   },
   "file_extension": ".py",
   "mimetype": "text/x-python",
   "name": "python",
   "nbconvert_exporter": "python",
   "pygments_lexer": "ipython3",
   "version": "3.7.3"
  },
  "mimetype": "text/x-python",
  "name": "python",
  "npconvert_exporter": "python",
  "pygments_lexer": "ipython3",
  "version": 3
 },
 "nbformat": 4,
 "nbformat_minor": 2
}
