{
 "cells": [
  {
   "cell_type": "markdown",
   "metadata": {},
   "source": [
    "## System Benchmarking Tool for Decentralized Energy Trading\n"
   ]
  },
  {
   "cell_type": "markdown",
   "metadata": {},
   "source": [
    "### Imports"
   ]
  },
  {
   "cell_type": "code",
   "execution_count": 9,
   "metadata": {},
   "outputs": [],
   "source": [
    "%%capture\n",
    "import sys\n",
    "import os\n",
    "import math\n",
    "!{sys.executable} -m pip install web3\n",
    "!{sys.executable} -m pip install matplotlib\n",
    "\n"
   ]
  },
  {
   "cell_type": "markdown",
   "metadata": {},
   "source": [
    "### Configuration\n",
    "- n - max. number of households to be benchmarked\n",
    "- shareProducers - share of producing households\n"
   ]
  },
  {
   "cell_type": "code",
   "execution_count": 10,
   "metadata": {},
   "outputs": [],
   "source": [
    "n = 2\n",
    "shareProducers = 0.15\n"
   ]
  },
  {
   "cell_type": "markdown",
   "metadata": {},
   "source": [
    "### Generate Contracts"
   ]
  },
  {
   "cell_type": "code",
   "execution_count": 20,
   "metadata": {
    "scrolled": true
   },
   "outputs": [
    {
     "name": "stdout",
     "output_type": "stream",
     "text": [
      "/Users/paul/Documents/projects/decentralized-energy-trading\n",
      "/Users/paul/Documents/projects/decentralized-energy-trading/zokrates-code\n",
      "# of HHs with Energy:  1\n",
      "# of HHs without Energy:  1\n",
      "Generating zoKrates-Code for n = 1 HHs with Energy & m = 1 HHs without Energy and saving it to a file...\n",
      "Generating the corresponding code for the Configuration of the NED-Server...\n",
      "Saving the generated code to the ned-server-config.js File...\n",
      "Generating the corresponding Solidity Contracts...\n",
      "Saving the generated code to the corresponding Solidity-Contract Files...\n",
      "Saving the generated code to the ned-server-config.js File...\n",
      "Done!\n",
      "Compiling settlement-check.zok\n",
      "\n",
      "Compiled code written to 'out'\n",
      "Number of constraints: 118558\n",
      "/Users/paul/Documents/projects/decentralized-energy-trading/zokrates-code\n",
      "[118558]\n",
      "/Users/paul/Documents/projects/decentralized-energy-trading\n",
      "\n",
      "Compiling your contracts...\n",
      "===========================\n",
      "^C\n",
      "adds:  [ \u001b[32m'0x5feceb66ffc86f38d952786c6d696c79c2dbc239'\u001b[39m,\n",
      "  \u001b[32m'0x6b86b273ff34fce19d6b804eff5a3f5747ada4ea'\u001b[39m ]\n",
      "MeterDeltas:  [ \u001b[33m0.0043\u001b[39m, \u001b[33m-0.0609\u001b[39m ]\n",
      "Contract Deployed! Gas used: 2113012\n",
      "\u001b[31mUnhandled rejection RequestError: Error: connect ECONNREFUSED 127.0.0.1:3005\n",
      "    at new RequestError (/Users/paul/Documents/projects/decentralized-energy-trading/node_modules/request-promise-core/lib/errors.js:14:15)\n",
      "    at Request.plumbing.callback (/Users/paul/Documents/projects/decentralized-energy-trading/node_modules/request-promise-core/lib/plumbing.js:87:29)\n",
      "    at Request.RP$callback [as _callback] (/Users/paul/Documents/projects/decentralized-energy-trading/node_modules/request-promise-core/lib/plumbing.js:46:31)\n",
      "    at self.callback (/Users/paul/Documents/projects/decentralized-energy-trading/node_modules/request/request.js:185:22)\n",
      "    at Request.emit (events.js:182:13)\n",
      "    at Request.onRequestError (/Users/paul/Documents/projects/decentralized-energy-trading/node_modules/request/request.js:881:8)\n",
      "    at ClientRequest.emit (events.js:182:13)\n",
      "    at Socket.socketErrorListener (_http_client.js:391:9)\n",
      "    at Socket.emit (events.js:182:13)\n",
      "    at emitErrorNT (internal/streams/destroy.js:82:8)\n",
      "    at emitErrorAndCloseNT (internal/streams/destroy.js:50:3)\n",
      "    at process._tickCallback (internal/process/next_tick.js:63:19)\u001b[0m\n",
      "\n",
      "tx done\n",
      "{ transactionHash:\n",
      "   \u001b[32m'0x198b420807c8c8321ed92899c03b0d010ece674bc25da5060b9ca6d8139ad69f'\u001b[39m,\n",
      "  transactionIndex: \u001b[33m0\u001b[39m,\n",
      "  blockHash:\n",
      "   \u001b[32m'0xad4756bc4c06ba861f55f7478ca1f950ef7c17793c33e177fc07adc0c1d9af64'\u001b[39m,\n",
      "  blockNumber: \u001b[33m24\u001b[39m,\n",
      "  from: \u001b[32m'0xb2bf7bd58d4f830d3a2fc4a0bb237e4f33ab7b80'\u001b[39m,\n",
      "  to: \u001b[32m'0x9c18a7985a8045e15c53e585420433e5a1c73dcf'\u001b[39m,\n",
      "  gasUsed: \u001b[33m161182\u001b[39m,\n",
      "  cumulativeGasUsed: \u001b[33m161182\u001b[39m,\n",
      "  contractAddress: \u001b[1mnull\u001b[22m,\n",
      "  status: \u001b[33mtrue\u001b[39m,\n",
      "  logsBloom:\n",
      "   \u001b[32m'0x00010000000000000000000000000000000000000000000000000000040000000400000000000000000000000000200000000000000000000000000000000000000000000000000000010000000000000000000000000000000000004000000000004000000000000000000000000000000000000000000800000000000000000000000000000000000000000000000000000000000000000000000000000000000000000000004000200000000000000000000000000000000200000000000000000800000000000000000000000000000000000000000000000000000000000000000000000010000000000000000000000002000000000040000000000000'\u001b[39m,\n",
      "  v: \u001b[32m'0x1c'\u001b[39m,\n",
      "  r:\n",
      "   \u001b[32m'0xdeb255fbd3e34293912c335527a5393f85779d40751a2a8210cfde6b8c1a8176'\u001b[39m,\n",
      "  s:\n",
      "   \u001b[32m'0x71955f7868fd10394f30665558368c12bfc40482540c1e46de059e7bc9727110'\u001b[39m,\n",
      "  events:\n",
      "   { NewHousehold: [ \u001b[36m[Object]\u001b[39m, \u001b[36m[Object]\u001b[39m ],\n",
      "     RenewableEnergyChanged: [ \u001b[36m[Object]\u001b[39m, \u001b[36m[Object]\u001b[39m ] } }\n",
      "/Users/paul/Documents/projects/decentralized-energy-trading/benchmarking\n"
     ]
    }
   ],
   "source": [
    "setup_time = []\n",
    "witness_time = []\n",
    "proof_time = []\n",
    "constraints = []\n",
    "%alias_magic benchmark timeit -p \"-n 1 -r 1 -o\"\n",
    "\n",
    "def calcProducerConsumer(num):\n",
    "    if math.ceil(num * shareProducers) > 1:\n",
    "        wE = num * shareProducers\n",
    "        nE = n - wE\n",
    "    else:\n",
    "        wE = 1\n",
    "        nE = num - wE\n",
    "    return wE, nE\n",
    "\n",
    "# counts constraints by looking into out.ztf\n",
    "def count_constraints():\n",
    "    f = open(\"./out.ztf\",'r')\n",
    "    constraints.append(len(list(filter(lambda x: \"==\" in x, f.readlines()))))\n",
    "    \n",
    "def compile_file(file):\n",
    "    value = %benchmark !zokrates compile -i settlement-check.zok --light\n",
    "    return int(value.best * 1000000)\n",
    "\n",
    "def setup():\n",
    "    value = %benchmark !zokrates setup --light\n",
    "    return int(value.best * 1000000)\n",
    "\n",
    "%cd ..\n",
    "for i in range(2, n + 1):\n",
    "    wE, nE = calcProducerConsumer(i)\n",
    "    %cd zokrates-code\n",
    "    !node zoKratesCodeGenerator.js {wE} {nE}\n",
    "    !zokrates compile -i settlement-check.zok --light\n",
    "    count_constraints()\n",
    "    %cd ..\n",
    "    !truffle compile\n",
    "    !node benchmarking/setup_benchmark.js {wE} {nE}\n",
    "%cd benchmarking"
   ]
  },
  {
   "cell_type": "code",
   "execution_count": null,
   "metadata": {},
   "outputs": [],
   "source": []
  },
  {
   "cell_type": "code",
   "execution_count": null,
   "metadata": {},
   "outputs": [],
   "source": []
  },
  {
   "cell_type": "markdown",
   "metadata": {},
   "source": [
    "%cd zokrates-code\n",
    "!node zoKratesCodeGenerator.js {wE} {nE}"
   ]
  },
  {
   "cell_type": "code",
   "execution_count": null,
   "metadata": {},
   "outputs": [],
   "source": []
  }
 ],
 "metadata": {
  "file_extension": ".py",
  "kernelspec": {
   "display_name": "Python 3",
   "language": "python",
   "name": "python3"
  },
  "language_info": {
   "codemirror_mode": {
    "name": "ipython",
    "version": 3
   },
   "file_extension": ".py",
   "mimetype": "text/x-python",
   "name": "python",
   "nbconvert_exporter": "python",
   "pygments_lexer": "ipython3",
   "version": "3.7.3"
  },
  "mimetype": "text/x-python",
  "name": "python",
  "npconvert_exporter": "python",
  "pygments_lexer": "ipython3",
  "version": 3
 },
 "nbformat": 4,
 "nbformat_minor": 2
}
