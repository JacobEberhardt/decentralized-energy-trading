{
 "cells": [
  {
   "cell_type": "markdown",
   "metadata": {},
   "source": [
    "## System Benchmarking Tool for Decentralized Energy Trading\n"
   ]
  },
  {
   "cell_type": "markdown",
   "metadata": {},
   "source": [
    "### Imports"
   ]
  },
  {
   "cell_type": "code",
   "execution_count": 1,
   "metadata": {},
   "outputs": [],
   "source": [
    "%%capture\n",
    "import sys\n",
    "import math\n",
    "!{sys.executable} -m pip install web3\n",
    "!{sys.executable} -m pip install matplotlib\n",
    "\n"
   ]
  },
  {
   "cell_type": "markdown",
   "metadata": {},
   "source": [
    "### Configuration\n",
    "- n - max. number of households to be benchmarked\n",
    "- shareProducers - share of producing households\n"
   ]
  },
  {
   "cell_type": "code",
   "execution_count": 2,
   "metadata": {},
   "outputs": [],
   "source": [
    "n = 2\n",
    "shareProducers = 0.15\n"
   ]
  },
  {
   "cell_type": "markdown",
   "metadata": {},
   "source": [
    "### Generate Contracts"
   ]
  },
  {
   "cell_type": "code",
   "execution_count": 5,
   "metadata": {
    "scrolled": true
   },
   "outputs": [
    {
     "name": "stdout",
     "output_type": "stream",
     "text": [
      "/Users/paul/Documents/projects/decentralized-energy-trading\n",
      "/Users/paul/Documents/projects/decentralized-energy-trading/zokrates-code\n",
      "/Users/paul/Documents/projects/decentralized-energy-trading\n",
      "\n",
      "Compiling your contracts...\n",
      "===========================\n",
      "> Everything is up to date, there is nothing to compile.\n",
      "\n",
      "adds:  [ \u001b[32m'0x5feceb66ffc86f38d952786c6d696c79c2dbc239'\u001b[39m,\n",
      "  \u001b[32m'0x6b86b273ff34fce19d6b804eff5a3f5747ada4ea'\u001b[39m ]\n",
      "Contract Deployed! Gas used: 2139295\n",
      "[ \u001b[32m'0x5feceb66ffc86f38d952786c6d696c79c2dbc239'\u001b[39m,\n",
      "  \u001b[32m'0x6b86b273ff34fce19d6b804eff5a3f5747ada4ea'\u001b[39m ]\n",
      "[ \u001b[32m'0x39dadf25eeb82bbadde00e0c4f6c27b191628d16c76b774217e96edaea07f548'\u001b[39m,\n",
      "  \u001b[32m'0x8402da7ed8465bf41fb658844008fa77ca3443245734660b75b527cfd6a0e86b'\u001b[39m ]\n",
      "Call #1:  0\n",
      "Error: Invalid JSON RPC response: \"\"\n",
      "    at Object.InvalidResponse (/Users/paul/Documents/projects/decentralized-energy-trading/benchmarking/node_modules/web3-core-helpers/src/errors.js:42:16)\n",
      "    at XMLHttpRequest.request.onreadystatechange (/Users/paul/Documents/projects/decentralized-energy-trading/benchmarking/node_modules/web3-providers-http/src/index.js:98:32)\n",
      "    at XMLHttpRequestEventTarget.dispatchEvent (/Users/paul/Documents/projects/decentralized-energy-trading/benchmarking/node_modules/xhr2-cookies/dist/xml-http-request-event-target.js:34:22)\n",
      "    at XMLHttpRequest._setReadyState (/Users/paul/Documents/projects/decentralized-energy-trading/benchmarking/node_modules/xhr2-cookies/dist/xml-http-request.js:208:14)\n",
      "    at XMLHttpRequest._onHttpRequestError (/Users/paul/Documents/projects/decentralized-energy-trading/benchmarking/node_modules/xhr2-cookies/dist/xml-http-request.js:349:14)\n",
      "    at ClientRequest.<anonymous> (/Users/paul/Documents/projects/decentralized-energy-trading/benchmarking/node_modules/xhr2-cookies/dist/xml-http-request.js:252:61)\n",
      "    at ClientRequest.emit (events.js:182:13)\n",
      "    at Socket.socketOnEnd (_http_client.js:425:9)\n",
      "    at Socket.emit (events.js:187:15)\n",
      "    at endReadableNT (_stream_readable.js:1092:12)\n",
      "    at process._tickCallback (internal/process/next_tick.js:63:19)\n",
      "/Users/paul/Documents/projects/decentralized-energy-trading/benchmarking\n"
     ]
    }
   ],
   "source": [
    "def calcProducerConsumer(num):\n",
    "    if math.ceil(num * shareProducers) > 1:\n",
    "        wE = num * shareProducers\n",
    "        nE = n - wE\n",
    "    else:\n",
    "        wE = 1\n",
    "        nE = num - wE\n",
    "    return wE, nE\n",
    "\n",
    "%cd ..\n",
    "for i in range(2, n + 1):\n",
    "    wE, nE = calcProducerConsumer(i)\n",
    "    %cd zokrates-code\n",
    "#     !node zoKratesCodeGenerator.js {wE} {nE}Hey \n",
    "    %cd ..\n",
    "    !truffle compile\n",
    "    !node benchmarking/setup_benchmark.js {wE} {nE}\n",
    "%cd benchmarking\n",
    "\n",
    "#     %cd benchmarking\n",
    "#     %cd paul/Documents/projects/decentralized-energy-trading/benchmarking"
   ]
  },
  {
   "cell_type": "code",
   "execution_count": null,
   "metadata": {},
   "outputs": [],
   "source": []
  },
  {
   "cell_type": "code",
   "execution_count": null,
   "metadata": {},
   "outputs": [],
   "source": []
  },
  {
   "cell_type": "markdown",
   "metadata": {},
   "source": [
    "%cd zokrates-code\n",
    "!node zoKratesCodeGenerator.js {wE} {nE}"
   ]
  },
  {
   "cell_type": "code",
   "execution_count": null,
   "metadata": {},
   "outputs": [],
   "source": []
  }
 ],
 "metadata": {
  "file_extension": ".py",
  "kernelspec": {
   "display_name": "Python 3",
   "language": "python",
   "name": "python3"
  },
  "language_info": {
   "codemirror_mode": {
    "name": "ipython",
    "version": 3
   },
   "file_extension": ".py",
   "mimetype": "text/x-python",
   "name": "python",
   "nbconvert_exporter": "python",
   "pygments_lexer": "ipython3",
   "version": "3.7.3"
  },
  "mimetype": "text/x-python",
  "name": "python",
  "npconvert_exporter": "python",
  "pygments_lexer": "ipython3",
  "version": 3
 },
 "nbformat": 4,
 "nbformat_minor": 2
}
