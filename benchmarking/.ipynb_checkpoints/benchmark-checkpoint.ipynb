{
 "cells": [
  {
   "cell_type": "markdown",
   "metadata": {},
   "source": [
    "## System Benchmarking Tool for Decentralized Energy Trading\n"
   ]
  },
  {
   "cell_type": "markdown",
   "metadata": {},
   "source": [
    "### Imports"
   ]
  },
  {
   "cell_type": "code",
   "execution_count": 5,
   "metadata": {},
   "outputs": [],
   "source": [
    "%%capture\n",
    "import sys\n",
    "import math\n",
    "!{sys.executable} -m pip install web3\n",
    "!{sys.executable} -m pip install matplotlib\n",
    "\n"
   ]
  },
  {
   "cell_type": "markdown",
   "metadata": {},
   "source": [
    "### Configuration\n",
    "- n - max. number of households to be benchmarked\n",
    "- shareProducers - share of producing households\n"
   ]
  },
  {
   "cell_type": "code",
   "execution_count": 19,
   "metadata": {},
   "outputs": [],
   "source": [
    "n = 2\n",
    "shareProducers = 0.15\n"
   ]
  },
  {
   "cell_type": "markdown",
   "metadata": {},
   "source": [
    "### Generate Contracts"
   ]
  },
  {
   "cell_type": "code",
   "execution_count": 33,
   "metadata": {
    "scrolled": true
   },
   "outputs": [
    {
     "name": "stdout",
     "output_type": "stream",
     "text": [
      "/Users/paul/Documents/projects/decentralized-energy-trading\n",
      "/Users/paul/Documents/projects/decentralized-energy-trading/zokrates-code\n",
      "# of HHs with Energy:  1\n",
      "# of HHs without Energy:  1\n",
      "Generating zoKrates-Code for n = 1 HHs with Energy & m = 1 HHs without Energy and saving it to a file...\n",
      "Generating the corresponding code for the Configuration of the NED-Server...\n",
      "Saving the generated code to the ned-server-config.js File...\n",
      "Generating the corresponding Solidity Contracts...\n",
      "Saving the generated code to the corresponding Solidity-Contract Files...\n",
      "Saving the generated code to the ned-server-config.js File...\n",
      "Done!\n",
      "/Users/paul/Documents/projects/decentralized-energy-trading\n",
      "\n",
      "Compiling your contracts...\n",
      "===========================\n",
      "> Compiling ./contracts/BaseOwnedSet.sol\n",
      "> Compiling ./contracts/OwnedSet.sol\n",
      "> Compiling ./contracts/dUtility.sol\n",
      "> Compiling ./contracts/dUtilityBenchmark.sol\n",
      "> Compiling ./contracts/interfaces/IVerifier.sol\n",
      "> Compiling ./contracts/interfaces/IdUtility.sol\n",
      "\n",
      "    > compilation warnings encountered:\n",
      "\n",
      "/Users/paul/Documents/projects/decentralized-energy-trading/contracts/verifier.sol:449:5: Warning: Function state mutability can be restricted to view\n",
      "    function addition(G2Point memory p1, G2Point memory p2) internal returns (G2Point memory r) {\n",
      "    ^ (Relevant source part starts here and spans across multiple lines).\n",
      "\n",
      "> Artifacts written to /Users/paul/Documents/projects/decentralized-energy-trading/build/contracts\n",
      "> Compiled successfully using:\n",
      "   - solc: 0.5.2+commit.1df8f40c.Emscripten.clang\n",
      "\n",
      "adds:  [ \u001b[32m'0x5feceb66ffc86f38d952786c6d696c79c2dbc239'\u001b[39m,\n",
      "  \u001b[32m'0x6b86b273ff34fce19d6b804eff5a3f5747ada4ea'\u001b[39m ]\n",
      "Contract Deployed! Gas used: 2113012\n",
      "^C\n",
      "/Users/paul/Documents/projects/decentralized-energy-trading/benchmarking\n"
     ]
    }
   ],
   "source": [
    "def calcProducerConsumer(num):\n",
    "    if math.ceil(num * shareProducers) > 1:\n",
    "        wE = num * shareProducers\n",
    "        nE = n - wE\n",
    "    else:\n",
    "        wE = 1\n",
    "        nE = num - wE\n",
    "    return wE, nE\n",
    "\n",
    "%cd ..\n",
    "for i in range(2, n + 1):\n",
    "    wE, nE = calcProducerConsumer(i)\n",
    "    %cd zokrates-code\n",
    "    !node zoKratesCodeGenerator.js {wE} {nE}\n",
    "    %cd ..\n",
    "    !truffle compile\n",
    "    !node benchmarking/setup_benchmark.js {wE} {nE}\n",
    "%cd benchmarking\n",
    "\n",
    "#     %cd benchmarking\n",
    "#     %cd paul/Documents/projects/decentralized-energy-trading/benchmarking"
   ]
  },
  {
   "cell_type": "code",
   "execution_count": null,
   "metadata": {},
   "outputs": [],
   "source": []
  },
  {
   "cell_type": "code",
   "execution_count": null,
   "metadata": {},
   "outputs": [],
   "source": []
  },
  {
   "cell_type": "markdown",
   "metadata": {},
   "source": [
    "%cd zokrates-code\n",
    "!node zoKratesCodeGenerator.js {wE} {nE}"
   ]
  },
  {
   "cell_type": "code",
   "execution_count": null,
   "metadata": {},
   "outputs": [],
   "source": []
  }
 ],
 "metadata": {
  "file_extension": ".py",
  "kernelspec": {
   "display_name": "Python 3",
   "language": "python",
   "name": "python3"
  },
  "language_info": {
   "codemirror_mode": {
    "name": "ipython",
    "version": 3
   },
   "file_extension": ".py",
   "mimetype": "text/x-python",
   "name": "python",
   "nbconvert_exporter": "python",
   "pygments_lexer": "ipython3",
   "version": "3.7.3"
  },
  "mimetype": "text/x-python",
  "name": "python",
  "npconvert_exporter": "python",
  "pygments_lexer": "ipython3",
  "version": 3
 },
 "nbformat": 4,
 "nbformat_minor": 2
}
