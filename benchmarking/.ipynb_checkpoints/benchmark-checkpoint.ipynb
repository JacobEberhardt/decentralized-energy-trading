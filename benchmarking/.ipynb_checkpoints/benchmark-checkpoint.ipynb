{
 "cells": [
  {
   "cell_type": "markdown",
   "metadata": {},
   "source": [
    "## System Benchmarking Tool for Decentralized Energy Trading\n"
   ]
  },
  {
   "cell_type": "markdown",
   "metadata": {},
   "source": [
    "### Imports"
   ]
  },
  {
   "cell_type": "code",
   "execution_count": 6,
   "metadata": {},
   "outputs": [
    {
     "name": "stdout",
     "output_type": "stream",
     "text": [
      "Requirement already satisfied: web3 in /Users/paul/anaconda3/lib/python3.7/site-packages (5.0.2)\n",
      "Requirement already satisfied: websockets<8.0.0,>=7.0.0 in /Users/paul/anaconda3/lib/python3.7/site-packages (from web3) (7.0)\n",
      "Requirement already satisfied: eth-hash[pycryptodome]<1.0.0,>=0.2.0 in /Users/paul/anaconda3/lib/python3.7/site-packages (from web3) (0.2.0)\n",
      "Requirement already satisfied: ipfshttpclient<1,>=0.4.12 in /Users/paul/anaconda3/lib/python3.7/site-packages (from web3) (0.4.12)\n",
      "Requirement already satisfied: eth-typing<3.0.0,>=2.0.0 in /Users/paul/anaconda3/lib/python3.7/site-packages (from web3) (2.1.0)\n",
      "Requirement already satisfied: eth-abi<3.0.0,>=2.0.0b6 in /Users/paul/anaconda3/lib/python3.7/site-packages (from web3) (2.0.0)\n",
      "Requirement already satisfied: requests<3.0.0,>=2.16.0 in /Users/paul/anaconda3/lib/python3.7/site-packages (from web3) (2.22.0)\n",
      "Requirement already satisfied: hexbytes<1.0.0,>=0.1.0 in /Users/paul/anaconda3/lib/python3.7/site-packages (from web3) (0.2.0)\n",
      "Requirement already satisfied: eth-account<0.5.0,>=0.4.0 in /Users/paul/anaconda3/lib/python3.7/site-packages (from web3) (0.4.0)\n",
      "Requirement already satisfied: protobuf<4,>=3.0.0 in /Users/paul/anaconda3/lib/python3.7/site-packages (from web3) (3.9.1)\n",
      "Requirement already satisfied: jsonschema<3,>=2.6.0 in /Users/paul/anaconda3/lib/python3.7/site-packages (from web3) (2.6.0)\n",
      "Requirement already satisfied: lru-dict<2.0.0,>=1.1.6 in /Users/paul/anaconda3/lib/python3.7/site-packages (from web3) (1.1.6)\n",
      "Requirement already satisfied: eth-utils<2.0.0,>=1.4.0 in /Users/paul/anaconda3/lib/python3.7/site-packages (from web3) (1.7.0)\n",
      "Requirement already satisfied: pycryptodome<4,>=3.6.6; extra == \"pycryptodome\" in /Users/paul/anaconda3/lib/python3.7/site-packages (from eth-hash[pycryptodome]<1.0.0,>=0.2.0->web3) (3.9.0)\n",
      "Requirement already satisfied: six in /Users/paul/anaconda3/lib/python3.7/site-packages (from ipfshttpclient<1,>=0.4.12->web3) (1.12.0)\n",
      "Requirement already satisfied: multiaddr>=0.0.7 in /Users/paul/anaconda3/lib/python3.7/site-packages (from ipfshttpclient<1,>=0.4.12->web3) (0.0.8)\n",
      "Requirement already satisfied: parsimonious<0.9.0,>=0.8.0 in /Users/paul/anaconda3/lib/python3.7/site-packages (from eth-abi<3.0.0,>=2.0.0b6->web3) (0.8.1)\n",
      "Requirement already satisfied: idna<2.9,>=2.5 in /Users/paul/anaconda3/lib/python3.7/site-packages (from requests<3.0.0,>=2.16.0->web3) (2.8)\n",
      "Requirement already satisfied: chardet<3.1.0,>=3.0.2 in /Users/paul/anaconda3/lib/python3.7/site-packages (from requests<3.0.0,>=2.16.0->web3) (3.0.4)\n",
      "Requirement already satisfied: urllib3!=1.25.0,!=1.25.1,<1.26,>=1.21.1 in /Users/paul/anaconda3/lib/python3.7/site-packages (from requests<3.0.0,>=2.16.0->web3) (1.24.2)\n",
      "Requirement already satisfied: certifi>=2017.4.17 in /Users/paul/anaconda3/lib/python3.7/site-packages (from requests<3.0.0,>=2.16.0->web3) (2019.9.11)\n",
      "Requirement already satisfied: eth-rlp<1,>=0.1.2 in /Users/paul/anaconda3/lib/python3.7/site-packages (from eth-account<0.5.0,>=0.4.0->web3) (0.1.2)\n",
      "Requirement already satisfied: rlp<2,>=1.0.0 in /Users/paul/anaconda3/lib/python3.7/site-packages (from eth-account<0.5.0,>=0.4.0->web3) (1.1.0)\n",
      "Requirement already satisfied: eth-keys<0.3.0,>=0.2.1 in /Users/paul/anaconda3/lib/python3.7/site-packages (from eth-account<0.5.0,>=0.4.0->web3) (0.2.4)\n",
      "Requirement already satisfied: eth-keyfile<0.6.0,>=0.5.0 in /Users/paul/anaconda3/lib/python3.7/site-packages (from eth-account<0.5.0,>=0.4.0->web3) (0.5.1)\n",
      "Requirement already satisfied: attrdict<3,>=2.0.0 in /Users/paul/anaconda3/lib/python3.7/site-packages (from eth-account<0.5.0,>=0.4.0->web3) (2.0.1)\n",
      "Requirement already satisfied: setuptools in /Users/paul/anaconda3/lib/python3.7/site-packages (from protobuf<4,>=3.0.0->web3) (41.0.1)\n",
      "Requirement already satisfied: cytoolz<1.0.0,>=0.8.2; implementation_name == \"cpython\" in /Users/paul/anaconda3/lib/python3.7/site-packages (from eth-utils<2.0.0,>=1.4.0->web3) (0.10.0)\n",
      "Requirement already satisfied: varint in /Users/paul/anaconda3/lib/python3.7/site-packages (from multiaddr>=0.0.7->ipfshttpclient<1,>=0.4.12->web3) (1.0.2)\n",
      "Requirement already satisfied: base58 in /Users/paul/anaconda3/lib/python3.7/site-packages (from multiaddr>=0.0.7->ipfshttpclient<1,>=0.4.12->web3) (1.0.3)\n",
      "Requirement already satisfied: netaddr in /Users/paul/anaconda3/lib/python3.7/site-packages (from multiaddr>=0.0.7->ipfshttpclient<1,>=0.4.12->web3) (0.7.19)\n",
      "Requirement already satisfied: toolz>=0.8.0 in /Users/paul/anaconda3/lib/python3.7/site-packages (from cytoolz<1.0.0,>=0.8.2; implementation_name == \"cpython\"->eth-utils<2.0.0,>=1.4.0->web3) (0.10.0)\n",
      "Requirement already satisfied: matplotlib in /Users/paul/anaconda3/lib/python3.7/site-packages (3.1.0)\n",
      "Requirement already satisfied: cycler>=0.10 in /Users/paul/anaconda3/lib/python3.7/site-packages (from matplotlib) (0.10.0)\n",
      "Requirement already satisfied: kiwisolver>=1.0.1 in /Users/paul/anaconda3/lib/python3.7/site-packages (from matplotlib) (1.1.0)\n",
      "Requirement already satisfied: pyparsing!=2.0.4,!=2.1.2,!=2.1.6,>=2.0.1 in /Users/paul/anaconda3/lib/python3.7/site-packages (from matplotlib) (2.4.0)\n",
      "Requirement already satisfied: python-dateutil>=2.1 in /Users/paul/anaconda3/lib/python3.7/site-packages (from matplotlib) (2.8.0)\n",
      "Requirement already satisfied: numpy>=1.11 in /Users/paul/anaconda3/lib/python3.7/site-packages (from matplotlib) (1.16.4)\n",
      "Requirement already satisfied: six in /Users/paul/anaconda3/lib/python3.7/site-packages (from cycler>=0.10->matplotlib) (1.12.0)\n",
      "Requirement already satisfied: setuptools in /Users/paul/anaconda3/lib/python3.7/site-packages (from kiwisolver>=1.0.1->matplotlib) (41.0.1)\n"
     ]
    }
   ],
   "source": [
    "import sys\n",
    "import math\n",
    "!{sys.executable} -m pip install web3\n",
    "!{sys.executable} -m pip install matplotlib\n",
    "\n"
   ]
  },
  {
   "cell_type": "markdown",
   "metadata": {},
   "source": [
    "### Configuration\n",
    "- n - max. number of households to be benchmarked\n",
    "- shareProducers - share of producing households\n"
   ]
  },
  {
   "cell_type": "code",
   "execution_count": 7,
   "metadata": {},
   "outputs": [],
   "source": [
    "n = 5\n",
    "shareProducers = 0.15\n"
   ]
  },
  {
   "cell_type": "markdown",
   "metadata": {},
   "source": [
    "### Generate Contracts"
   ]
  },
  {
   "cell_type": "code",
   "execution_count": 8,
   "metadata": {},
   "outputs": [
    {
     "name": "stdout",
     "output_type": "stream",
     "text": [
      "[Errno 2] No such file or directory: 'zokrates-code'\n",
      "/Users/paul/Documents/projects/decentralized-energy-trading/benchmarking\n",
      "1 4\n",
      "False\n",
      "internal/modules/cjs/loader.js:583\n",
      "    throw err;\n",
      "    ^\n",
      "\n",
      "Error: Cannot find module '/Users/paul/Documents/projects/decentralized-energy-trading/benchmarking/zoKratesCodeGenerator.js'\n",
      "    at Function.Module._resolveFilename (internal/modules/cjs/loader.js:581:15)\n",
      "    at Function.Module._load (internal/modules/cjs/loader.js:507:25)\n",
      "    at Function.Module.runMain (internal/modules/cjs/loader.js:742:12)\n",
      "    at startup (internal/bootstrap/node.js:279:19)\n",
      "    at bootstrapNodeJSCore (internal/bootstrap/node.js:696:3)\n",
      "1 4\n",
      "False\n",
      "internal/modules/cjs/loader.js:583\n",
      "    throw err;\n",
      "    ^\n",
      "\n",
      "Error: Cannot find module '/Users/paul/Documents/projects/decentralized-energy-trading/benchmarking/zoKratesCodeGenerator.js'\n",
      "    at Function.Module._resolveFilename (internal/modules/cjs/loader.js:581:15)\n",
      "    at Function.Module._load (internal/modules/cjs/loader.js:507:25)\n",
      "    at Function.Module.runMain (internal/modules/cjs/loader.js:742:12)\n",
      "    at startup (internal/bootstrap/node.js:279:19)\n",
      "    at bootstrapNodeJSCore (internal/bootstrap/node.js:696:3)\n",
      "1 4\n",
      "False\n",
      "internal/modules/cjs/loader.js:583\n",
      "    throw err;\n",
      "    ^\n",
      "\n",
      "Error: Cannot find module '/Users/paul/Documents/projects/decentralized-energy-trading/benchmarking/zoKratesCodeGenerator.js'\n",
      "    at Function.Module._resolveFilename (internal/modules/cjs/loader.js:581:15)\n",
      "    at Function.Module._load (internal/modules/cjs/loader.js:507:25)\n",
      "    at Function.Module.runMain (internal/modules/cjs/loader.js:742:12)\n",
      "    at startup (internal/bootstrap/node.js:279:19)\n",
      "    at bootstrapNodeJSCore (internal/bootstrap/node.js:696:3)\n",
      "1 4\n",
      "True\n",
      "internal/modules/cjs/loader.js:583\n",
      "    throw err;\n",
      "    ^\n",
      "\n",
      "Error: Cannot find module '/Users/paul/Documents/projects/decentralized-energy-trading/benchmarking/zoKratesCodeGenerator.js'\n",
      "    at Function.Module._resolveFilename (internal/modules/cjs/loader.js:581:15)\n",
      "    at Function.Module._load (internal/modules/cjs/loader.js:507:25)\n",
      "    at Function.Module.runMain (internal/modules/cjs/loader.js:742:12)\n",
      "    at startup (internal/bootstrap/node.js:279:19)\n",
      "    at bootstrapNodeJSCore (internal/bootstrap/node.js:696:3)\n"
     ]
    }
   ],
   "source": [
    "def calcProducerConsumer(num):\n",
    "    if math.ceil(num * shareProducers) > 1:\n",
    "        wE = num * shareProducers\n",
    "        nE = n - wE\n",
    "    else:\n",
    "        wE = 1\n",
    "        nE = n - wE\n",
    "    print(wE, nE)\n",
    "    return wE, nE\n",
    "\n",
    "%cd zokrates-code\n",
    "for i in range(2, n + 1):\n",
    "    wE, nE = calcProducerConsumer(i)\n",
    "    print(wE + nE == i)      \n",
    "    %cd zokrates-code && !node zoKratesCodeGenerator.js {wE} {nE}"
   ]
  },
  {
   "cell_type": "code",
   "execution_count": null,
   "metadata": {},
   "outputs": [],
   "source": []
  },
  {
   "cell_type": "code",
   "execution_count": null,
   "metadata": {},
   "outputs": [],
   "source": []
  },
  {
   "cell_type": "markdown",
   "metadata": {},
   "source": [
    "%cd zokrates-code\n",
    "!node zoKratesCodeGenerator.js {wE} {nE}"
   ]
  },
  {
   "cell_type": "code",
   "execution_count": null,
   "metadata": {},
   "outputs": [],
   "source": []
  }
 ],
 "metadata": {
  "file_extension": ".py",
  "kernelspec": {
   "display_name": "Python 3",
   "language": "python",
   "name": "python3"
  },
  "language_info": {
   "codemirror_mode": {
    "name": "ipython",
    "version": 3
   },
   "file_extension": ".py",
   "mimetype": "text/x-python",
   "name": "python",
   "nbconvert_exporter": "python",
   "pygments_lexer": "ipython3",
   "version": "3.7.3"
  },
  "mimetype": "text/x-python",
  "name": "python",
  "npconvert_exporter": "python",
  "pygments_lexer": "ipython3",
  "version": 3
 },
 "nbformat": 4,
 "nbformat_minor": 2
}
