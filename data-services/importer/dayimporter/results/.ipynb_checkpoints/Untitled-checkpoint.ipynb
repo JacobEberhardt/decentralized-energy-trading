{
 "cells": [
  {
   "cell_type": "code",
   "execution_count": 5,
   "metadata": {},
   "outputs": [],
   "source": [
    "import pandas\n",
    "import numpy as np"
   ]
  },
  {
   "cell_type": "code",
   "execution_count": 6,
   "metadata": {},
   "outputs": [],
   "source": [
    "data_frame = pandas.read_json('Discovergy_2020-07-26.json')"
   ]
  },
  {
   "cell_type": "code",
   "execution_count": 7,
   "metadata": {},
   "outputs": [
    {
     "name": "stdout",
     "output_type": "stream",
     "text": [
      "                                 MId  IDur  \\\n",
      "0   374b3d16fb4f4837993b7ec9a2cf1c30    15   \n",
      "1   4012035a964e45cc9a997f125590e832    15   \n",
      "2   930a0685341a4075a5ceb7e8c0df6ea5    15   \n",
      "3   a819be9349344b16b15a68f2549cf798    15   \n",
      "4   a4ccd579ac6f43b1b8a1e151e0b9b7d4    15   \n",
      "..                               ...   ...   \n",
      "86  348890223bf148a69bc7c2683f238cb1    15   \n",
      "87  c8d2f7d292b14ed4906c9a2271ff56e4    15   \n",
      "88  3434ef7f266b45cc98c6b6cebc3d7cd0    15   \n",
      "89  3b821b181cda41889deb55e7e0627ea3    15   \n",
      "90  e4ee4ef5a79c4090ac72621820496b2d    15   \n",
      "\n",
      "                                               values  \n",
      "0   [{'PAvg': 54.227, 'IEnd': 1595713500000, 'EIn'...  \n",
      "1   [{'PAvg': 40.93825, 'IEnd': 1595713500000, 'EI...  \n",
      "2                                                  []  \n",
      "3   [{'PAvg': 120.82275, 'IEnd': 1595713500000, 'E...  \n",
      "4   [{'PAvg': 40.20825, 'IEnd': 1595713500000, 'EI...  \n",
      "..                                                ...  \n",
      "86  [{'PAvg': 38.91875, 'IEnd': 1595713500000, 'EI...  \n",
      "87                                                 []  \n",
      "88  [{'PAvg': 58.91525, 'IEnd': 1595713500000, 'EI...  \n",
      "89  [{'PAvg': 58.93775, 'IEnd': 1595713500000, 'EI...  \n",
      "90  [{'PAvg': 66.01425, 'IEnd': 1595713500000, 'EI...  \n",
      "\n",
      "[91 rows x 3 columns]\n"
     ]
    }
   ],
   "source": [
    "print(data_frame)"
   ]
  },
  {
   "cell_type": "code",
   "execution_count": 13,
   "metadata": {},
   "outputs": [
    {
     "ename": "TypeError",
     "evalue": "string indices must be integers",
     "output_type": "error",
     "traceback": [
      "\u001b[0;31m---------------------------------------------------------------------------\u001b[0m",
      "\u001b[0;31mTypeError\u001b[0m                                 Traceback (most recent call last)",
      "\u001b[0;32m<ipython-input-13-0e80b89f80ee>\u001b[0m in \u001b[0;36m<module>\u001b[0;34m\u001b[0m\n\u001b[1;32m      1\u001b[0m \u001b[0;32mfor\u001b[0m \u001b[0mmeter\u001b[0m \u001b[0;32min\u001b[0m \u001b[0mdata_frame\u001b[0m\u001b[0;34m:\u001b[0m\u001b[0;34m\u001b[0m\u001b[0;34m\u001b[0m\u001b[0m\n\u001b[0;32m----> 2\u001b[0;31m     \u001b[0mprint\u001b[0m\u001b[0;34m(\u001b[0m\u001b[0;34m'meterID: '\u001b[0m \u001b[0;34m+\u001b[0m \u001b[0mmeter\u001b[0m\u001b[0;34m[\u001b[0m\u001b[0;34m\"MId\"\u001b[0m\u001b[0;34m]\u001b[0m\u001b[0;34m)\u001b[0m\u001b[0;34m\u001b[0m\u001b[0;34m\u001b[0m\u001b[0m\n\u001b[0m\u001b[1;32m      3\u001b[0m     \u001b[0;32mfor\u001b[0m \u001b[0mvalue\u001b[0m \u001b[0;32min\u001b[0m \u001b[0mmeter\u001b[0m\u001b[0;34m[\u001b[0m\u001b[0;34m'values'\u001b[0m\u001b[0;34m]\u001b[0m\u001b[0;34m:\u001b[0m\u001b[0;34m\u001b[0m\u001b[0;34m\u001b[0m\u001b[0m\n\u001b[1;32m      4\u001b[0m         \u001b[0;31m#print('time: ', value['time'])\u001b[0m\u001b[0;34m\u001b[0m\u001b[0;34m\u001b[0m\u001b[0;34m\u001b[0m\u001b[0m\n\u001b[1;32m      5\u001b[0m         \u001b[0moutputTime\u001b[0m \u001b[0;34m=\u001b[0m \u001b[0;34m{\u001b[0m\u001b[0;34m}\u001b[0m\u001b[0;34m\u001b[0m\u001b[0;34m\u001b[0m\u001b[0m\n",
      "\u001b[0;31mTypeError\u001b[0m: string indices must be integers"
     ]
    }
   ],
   "source": []
  },
  {
   "cell_type": "code",
   "execution_count": null,
   "metadata": {},
   "outputs": [],
   "source": []
  }
 ],
 "metadata": {
  "kernelspec": {
   "display_name": "Python 3",
   "language": "python",
   "name": "python3"
  },
  "language_info": {
   "codemirror_mode": {
    "name": "ipython",
    "version": 3
   },
   "file_extension": ".py",
   "mimetype": "text/x-python",
   "name": "python",
   "nbconvert_exporter": "python",
   "pygments_lexer": "ipython3",
   "version": "3.8.3"
  }
 },
 "nbformat": 4,
 "nbformat_minor": 4
}
